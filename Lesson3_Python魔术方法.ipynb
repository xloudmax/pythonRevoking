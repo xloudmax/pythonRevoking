{
 "cells": [
  {
   "cell_type": "markdown",
   "id": "introduction",
   "metadata": {},
   "source": [
    "# Lesson 3：Python 魔术方法入门\n",
    "\n",
    "本节课将介绍 Python 中的魔术方法（magic methods），说明它们解决的问题，并通过示例演示常见的使用模式。理解这些方法能帮助我们定制对象的行为，让类与内置语法特性（如运算、比较、上下文管理等）自然配合。"
   ]
  },
  {
   "cell_type": "markdown",
   "id": "what-is-magic-method",
   "metadata": {},
   "source": [
    "## 什么是魔术方法？\n",
    "\n",
    "魔术方法是以双下划线开头和结尾的特殊方法，例如 `__init__`、`__len__`、`__str__`。当对象与特定语法或内置函数交互时，Python 会自动调用这些方法，使得自定义类可以表现得像内置类型一样自然。\n",
    "\n",
    "---\n",
    "\n",
    "## 一、Python 的核心哲学：一切皆对象\n",
    "\n",
    "在 Python 里，**几乎所有东西都是对象**——数字、字符串、函数、模块、类、文件、迭代器……\n",
    "\n",
    "> 每个对象都遵循一套通用协议（protocol），比如：\n",
    ">\n",
    "> * 能被 `len()` 调用（实现 `__len__`）\n",
    "> * 能被 `for` 循环（实现 `__iter__`/`__next__`）\n",
    "> * 能被 `+`、`in`、`==` 等操作符使用\n",
    "\n",
    "**魔术方法就是这些协议的实现入口。**\n",
    "\n",
    "---\n",
    "\n",
    "## 二、为什么需要它：让对象像内建类型一样“自然”\n",
    "\n",
    "### ✅ 1. 让你的类更 Pythonic（像内建类型）\n",
    "\n",
    "假设我们实现一个向量类：\n",
    "\n",
    "```python\n",
    "v1 + v2      # 想写成这样，而不是 v1.add(v2)\n",
    "len(v1)      # 想要计算维度，而不是 v1.length()\n",
    "v1 == v2     # 比较是否相等\n",
    "```\n",
    "\n",
    "如果不用魔术方法，这些操作都需要手动定义普通方法；\n",
    "但有了 `__add__`, `__len__`, `__eq__` 等，就能让类与内建类型无缝衔接。\n",
    "\n",
    "---\n",
    "\n",
    "### ✅ 2. 统一接口：所有对象都遵循相同协议\n",
    "\n",
    "Python 内部操作符、内建函数（`len()`, `str()`, `bool()`, `sum()`）\n",
    "其实都在背后调用对应的魔术方法。\n",
    "\n",
    "| 表达式           | 实际调用                          |\n",
    "| ------------- | ----------------------------- |\n",
    "| `len(x)`      | `x.__len__()`                 |\n",
    "| `x + y`       | `x.__add__(y)`                |\n",
    "| `x in y`      | `y.__contains__(x)`           |\n",
    "| `for a in b:` | `b.__iter__()` + `__next__()` |\n",
    "| `bool(x)`     | `x.__bool__()`                |\n",
    "\n",
    "> 有了统一协议，Python 就能用一种语法处理不同类型的对象（鸭子类型思想）。\n",
    "\n",
    "---\n",
    "\n",
    "### ✅ 3. 自定义行为：重载运算、访问控制、资源管理\n",
    "\n",
    "魔术方法提供了“钩子（hook）”机制，让你能插手 Python 的默认行为。\n",
    "\n",
    "| 场景    | 对应魔术方法                         | 作用            |\n",
    "| ----- | ------------------------------ | ------------- |\n",
    "| 对象创建  | `__new__`, `__init__`          | 控制实例化流程       |\n",
    "| 运算重载  | `__add__`, `__mul__`, `__eq__` | 改写算术/逻辑运算     |\n",
    "| 上下文管理 | `__enter__`, `__exit__`        | `with` 自动释放资源 |\n",
    "| 属性访问  | `__getattr__`, `__setattr__`   | 拦截、验证、动态加载属性  |\n",
    "| 函数式对象 | `__call__`                     | 让实例像函数一样被调用   |\n",
    "\n",
    "---\n",
    "\n",
    "### ✅ 4. 提高可读性与复用性\n",
    "\n",
    "例如：\n",
    "\n",
    "```python\n",
    "with Database() as db:\n",
    "    db.query(\"SELECT * FROM users\")\n",
    "```\n",
    "\n",
    "背后就是利用了 `__enter__` / `__exit__`，从而统一资源管理风格（类似文件操作）。\n",
    "\n",
    "再比如：\n",
    "\n",
    "```python\n",
    "user in group  # group.__contains__(user)\n",
    "```\n",
    "\n",
    "比 `group.has_user(user)` 语义更自然。\n",
    "\n",
    "---\n",
    "\n",
    "### ✅ 5. Python 内部机制依赖它\n",
    "\n",
    "解释器在执行很多语法结构时会自动触发这些方法。\n",
    "**如果你实现了它，就能改变解释器行为。**\n",
    "\n",
    "举例：\n",
    "\n",
    "```python\n",
    "class A:\n",
    "    def __getitem__(self, i):\n",
    "        print(\"get\", i)\n",
    "        return i*2\n",
    "\n",
    "a = A()\n",
    "a[3]        # get 3\n",
    "for x in a: # 调用 __iter__ 或 __getitem__ 迭代\n",
    "    ...\n",
    "```\n",
    "\n",
    "这就是“语法糖背后的钩子机制”。\n",
    "\n",
    "---\n",
    "\n",
    "## 三、总结：为什么要学、为什么要用\n",
    "\n",
    "| 目的                  | 收益                            |\n",
    "| ------------------- | ----------------------------- |\n",
    "| ✅ 让对象自然融入 Python 世界 | 能被 `len()`, `in`, `for` 等直接使用 |\n",
    "| ✅ 增强代码可读性           | 操作更贴近直觉，不用记忆专有方法名             |\n",
    "| ✅ 代码可复用性强           | 统一协议使各种工具（排序、序列化等）自动支持        |\n",
    "| ✅ 掌握底层机制            | 理解 Python 的运行模型（解释器如何调用方法）    |\n",
    "| ✅ 为高级特性打基础          | 自定义容器、ORM、框架、DSL 全靠这些机制       |\n",
    "\n",
    "---"
   ]
  },
  {
   "cell_type": "markdown",
   "id": "common-categories",
   "metadata": {},
   "source": [
    "## 常见魔术方法分类\n",
    "\n",
    "- **对象生命周期**：`__new__`、`__init__`、`__del__`\n",
    "- **字符串表示**：`__repr__`、`__str__`\n",
    "- **容器协议**：`__len__`、`__iter__`、`__getitem__`、`__contains__`\n",
    "- **可调用对象**：`__call__`\n",
    "- **数值运算与比较**：`__add__`、`__sub__`、`__lt__`、`__eq__` 等\n",
    "- **上下文管理器**：`__enter__`、`__exit__`\n",
    "\n",
    "接下来我们通过示例一步步演练这些方法的作用与写法。"
   ]
  },
  {
   "cell_type": "markdown",
   "id": "section-repr-str",
   "metadata": {},
   "source": [
    "### 1. 字符串表示：`__repr__` 与 `__str__`\n",
    "\n",
    "- `__repr__`：面向开发者的调试表示，应尽量精确且可复现对象状态。\n",
    "- `__str__`：面向用户的友好字符串，常用于打印或日志。"
   ]
  },
  {
   "cell_type": "code",
   "id": "repr-str-example",
   "metadata": {
    "ExecuteTime": {
     "end_time": "2025-10-29T13:03:13.459815Z",
     "start_time": "2025-10-29T13:03:13.421597Z"
    }
   },
   "source": [
    "# 用于演示 __repr__ 和 __str__ 差异的二维向量类\n",
    "class Vector2D:\n",
    "    def __init__(self, x, y):\n",
    "        # 保存水平分量\n",
    "        self.x = x\n",
    "        # 保存垂直分量\n",
    "        self.y = y\n",
    "\n",
    "    def __repr__(self):\n",
    "        # 返回供开发者调试的字符串，包含关键信息\n",
    "        return f\"Vector2D(x={self.x}, y={self.y})\"\n",
    "\n",
    "    def __str__(self):\n",
    "        # 返回面向用户的友好显示形式\n",
    "        return f\"({self.x}, {self.y})\"\n",
    "\n",
    "# 创建向量实例并观察两种字符串表示\n",
    "v = Vector2D(3, 4)\n",
    "print(repr(v))  # 调试友好的输出\n",
    "print(str(v))   # 面向用户的输出\n"
   ],
   "outputs": [
    {
     "name": "stdout",
     "output_type": "stream",
     "text": [
      "Vector2D(x=3, y=4)\n",
      "(3, 4)\n"
     ]
    }
   ],
   "execution_count": 10
  },
  {
   "cell_type": "markdown",
   "id": "section-container",
   "metadata": {},
   "source": [
    "### 2. 容器行为：`__len__`、`__iter__`、`__getitem__`\n",
    "\n",
    "实现这些方法后，自定义类就能与 `len()`、索引操作和迭代协议一起使用，比如在 `for` 循环中遍历。"
   ]
  },
  {
   "cell_type": "code",
   "id": "container-example",
   "metadata": {
    "ExecuteTime": {
     "end_time": "2025-10-29T13:03:13.724195Z",
     "start_time": "2025-10-29T13:03:13.719380Z"
    }
   },
   "source": [
    "# 演示实现容器协议的自定义集合类型\n",
    "class TagCollection:\n",
    "    def __init__(self, *tags):\n",
    "        # 将可变参数保存为列表以便后续操作\n",
    "        self._tags = list(tags)\n",
    "\n",
    "    def __len__(self):\n",
    "        # 允许 len() 查询集合规模\n",
    "        return len(self._tags)\n",
    "\n",
    "    def __iter__(self):\n",
    "        # 返回迭代器以支持 for 循环遍历\n",
    "        return iter(self._tags)\n",
    "\n",
    "    def __getitem__(self, index):\n",
    "        # 支持索引访问单个元素\n",
    "        return self._tags[index]\n",
    "\n",
    "# 准备示例集合并演示常见用法\n",
    "tags = TagCollection(\"python\", \"魔术方法\", \"教程\")\n",
    "print(len(tags))         # 触发 __len__\n",
    "print(tags[0])           # 触发 __getitem__\n",
    "print(list(tags))        # 触发 __iter__\n"
   ],
   "outputs": [
    {
     "name": "stdout",
     "output_type": "stream",
     "text": [
      "3\n",
      "python\n",
      "['python', '魔术方法', '教程']\n"
     ]
    }
   ],
   "execution_count": 11
  },
  {
   "cell_type": "markdown",
   "id": "section-arithmetic-comparison",
   "metadata": {},
   "source": [
    "### 3. 数值运算与比较：`__add__`、`__lt__` 等\n",
    "\n",
    "魔术方法可以让自定义类参与算术运算与大小比较，从而自然地融入内置运算符语法。"
   ]
  },
  {
   "cell_type": "code",
   "id": "arithmetic-example",
   "metadata": {
    "ExecuteTime": {
     "end_time": "2025-10-29T13:03:14.283149Z",
     "start_time": "2025-10-29T13:03:14.056646Z"
    }
   },
   "source": [
    "# 演示算术运算与比较运算的魔术方法\n",
    "class Budget:\n",
    "    def __init__(self, amount):\n",
    "        # 以整数或浮点数表示的预算金额\n",
    "        self.amount = amount\n",
    "\n",
    "    def __add__(self, other):\n",
    "        # 只允许两个 Budget 对象相加\n",
    "        if not isinstance(other, Budget):\n",
    "            return NotImplemented\n",
    "        # 返回新的 Budget 实例，保持不可变语义\n",
    "        return Budget(self.amount + other.amount)\n",
    "\n",
    "    def __lt__(self, other):\n",
    "        # 仅与另一个 Budget 对象比较大小\n",
    "        if not isinstance(other, Budget):\n",
    "            return NotImplemented\n",
    "        # 返回布尔值指示预算是否更小\n",
    "        return self.amount < other.amount\n",
    "\n",
    "    def __repr__(self):\n",
    "        # 提供可读的调试输出\n",
    "        return f\"Budget({self.amount})\"\n",
    "\n",
    "# 准备两个部门预算并演示运算\n",
    "marketing = Budget(1500)\n",
    "development = Budget(2000)\n",
    "total = marketing + development\n",
    "print(total)                   # 调用 __repr__ 展示结果\n",
    "print(marketing < development) # 调用 __lt__ 进行比较\n",
    "print(marketing < 500)         # 非 Budget 比较触发 NotImplemented\n"
   ],
   "outputs": [
    {
     "name": "stdout",
     "output_type": "stream",
     "text": [
      "Budget(3500)\n",
      "True\n"
     ]
    },
    {
     "ename": "TypeError",
     "evalue": "'<' not supported between instances of 'Budget' and 'int'",
     "output_type": "error",
     "traceback": [
      "\u001B[31m---------------------------------------------------------------------------\u001B[39m",
      "\u001B[31mTypeError\u001B[39m                                 Traceback (most recent call last)",
      "\u001B[36mCell\u001B[39m\u001B[36m \u001B[39m\u001B[32mIn[12]\u001B[39m\u001B[32m, line 31\u001B[39m\n\u001B[32m     29\u001B[39m \u001B[38;5;28mprint\u001B[39m(total)                   \u001B[38;5;66;03m# 调用 __repr__ 展示结果\u001B[39;00m\n\u001B[32m     30\u001B[39m \u001B[38;5;28mprint\u001B[39m(marketing < development) \u001B[38;5;66;03m# 调用 __lt__ 进行比较\u001B[39;00m\n\u001B[32m---> \u001B[39m\u001B[32m31\u001B[39m \u001B[38;5;28mprint\u001B[39m(\u001B[43mmarketing\u001B[49m\u001B[43m \u001B[49m\u001B[43m<\u001B[49m\u001B[43m \u001B[49m\u001B[32;43m500\u001B[39;49m)         \u001B[38;5;66;03m# 非 Budget 比较触发 NotImplemented\u001B[39;00m\n",
      "\u001B[31mTypeError\u001B[39m: '<' not supported between instances of 'Budget' and 'int'"
     ]
    }
   ],
   "execution_count": 12
  },
  {
   "cell_type": "markdown",
   "id": "section-context-manager",
   "metadata": {},
   "source": [
    "### 4. 上下文管理器：`__enter__` 与 `__exit__`\n",
    "\n",
    "通过实现这两个方法，可以让对象在 `with` 语句中使用，常见场景包括资源管理、计时器、事务控制等。"
   ]
  },
  {
   "cell_type": "code",
   "id": "context-manager-example",
   "metadata": {
    "ExecuteTime": {
     "end_time": "2025-10-29T13:03:14.506728Z",
     "start_time": "2025-10-29T13:03:14.503162Z"
    }
   },
   "source": [
    "# 使用上下文管理器自动跟踪代码块耗时\n",
    "from datetime import datetime\n",
    "\n",
    "class Timer:\n",
    "    def __enter__(self):\n",
    "        # 记录进入上下文的时间点\n",
    "        self.start = datetime.now()\n",
    "        print(\"开始计时...\")\n",
    "        # 将自身返回给 as 绑定，方便访问\n",
    "        return self\n",
    "\n",
    "    def __exit__(self, exc_type, exc, tb):\n",
    "        # 计算执行耗时并打印结果\n",
    "        delta = datetime.now() - self.start\n",
    "        print(f\"耗时：{delta.total_seconds():.4f} 秒\")\n",
    "        # 返回 False 表示如有异常继续向外传播\n",
    "        return False\n",
    "\n",
    "# 在 with 语句中使用 Timer 自动测量代码段性能\n",
    "with Timer():\n",
    "    total = sum(range(100_000))\n",
    "print(total)  # 打印计算结果以确认逻辑正确\n"
   ],
   "outputs": [
    {
     "name": "stdout",
     "output_type": "stream",
     "text": [
      "开始计时...\n",
      "耗时：0.0007 秒\n",
      "4999950000\n"
     ]
    }
   ],
   "execution_count": 13
  },
  {
   "cell_type": "markdown",
   "id": "section-callable",
   "metadata": {},
   "source": [
    "### 5. 函数式接口：`__call__`\n",
    "\n",
    "`__call__` 让对象表现得像函数一样被调用，适用于可配置的算法或需要状态的回调。"
   ]
  },
  {
   "cell_type": "code",
   "id": "callable-example",
   "metadata": {
    "ExecuteTime": {
     "end_time": "2025-10-29T13:03:14.884209Z",
     "start_time": "2025-10-29T13:03:14.881172Z"
    }
   },
   "source": [
    "# 通过实现 __call__ 让对象表现得像函数\n",
    "class LinearFunction:\n",
    "    def __init__(self, slope, intercept):\n",
    "        # 保存一次函数的斜率与截距\n",
    "        self.slope = slope\n",
    "        self.intercept = intercept\n",
    "\n",
    "    def __call__(self, x):\n",
    "        # 根据当前配置计算函数值\n",
    "        return self.slope * x + self.intercept\n",
    "\n",
    "# 创建一次函数 f(x) = 2x + 1 并像调用函数一样使用\n",
    "f = LinearFunction(2, 1)\n",
    "print(f(3))   # 输入 3，返回 7\n",
    "print(f(10))  # 输入 10，返回 21\n"
   ],
   "outputs": [
    {
     "name": "stdout",
     "output_type": "stream",
     "text": [
      "7\n",
      "21\n"
     ]
    }
   ],
   "execution_count": 14
  }
 ],
 "metadata": {
  "kernelspec": {
   "display_name": "Python 3 (ipykernel)",
   "language": "python",
   "name": "python3"
  },
  "language_info": {
   "codemirror_mode": {
    "name": "ipython",
    "version": 3
   },
   "file_extension": ".py",
   "mimetype": "text/x-python",
   "name": "python",
   "nbconvert_exporter": "python",
   "pygments_lexer": "ipython3",
   "version": "3.14.0"
  }
 },
 "nbformat": 4,
 "nbformat_minor": 5
}
