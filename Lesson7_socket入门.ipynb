{
 "cells": [
  {
   "cell_type": "markdown",
   "id": "e3316d73",
   "metadata": {},
   "source": [
    "# Lesson 7：Python `socket` 网络编程入门"
   ]
  },
  {
   "cell_type": "markdown",
   "id": "e2a093be",
   "metadata": {},
   "source": [
    "`socket` 模块提供底层网络通信能力，可创建 TCP/UDP 客户端与服务端。本课聚焦常见用法，帮助快速构建本地测试服务或理解高层框架的基础原理。"
   ]
  },
  {
   "cell_type": "markdown",
   "id": "82170c4b",
   "metadata": {},
   "source": [
    "## 1. 核心概念回顾\n",
    "\n",
    "- **IP 地址**：标识网络设备的位置（IPv4/IPv6）。\n",
    "- **端口（Port）**：在同一主机上区分不同服务，范围 0-65535。\n",
    "- **套接字（Socket）**：应用程序与网络之间的双向通信端点。\n",
    "- **协议族**：`AF_INET`（IPv4）、`AF_INET6`（IPv6）、`AF_UNIX`（同机器通信）。\n",
    "- **套接字类型**：`SOCK_STREAM`（TCP，可靠且面向连接）、`SOCK_DGRAM`（UDP，无连接）。"
   ]
  },
  {
   "cell_type": "markdown",
   "id": "87823654",
   "metadata": {},
   "source": [
    "## 2. 获取主机信息"
   ]
  },
  {
   "cell_type": "code",
   "execution_count": null,
   "id": "3884fc0c",
   "metadata": {},
   "outputs": [],
   "source": [
    "# socket 提供多种工具查询主机与地址信息\n",
    "import socket\n",
    "\n",
    "print(\"当前主机名: \", socket.gethostname())\n",
    "print(\"本机回环地址(IPv4):\", socket.gethostbyname('localhost'))\n",
    "\n",
    "# getaddrinfo 返回列表，包含可用地址族、套接字类型等信息\n",
    "info = socket.getaddrinfo('localhost', 8080, proto=socket.IPPROTO_TCP)\n",
    "print(\"可用地址组合数量:\", len(info))\n",
    "for family, socktype, proto, canonname, sockaddr in info[:2]:\n",
    "    print({\n",
    "        'family': family,\n",
    "        'socktype': socktype,\n",
    "        'proto': proto,\n",
    "        'sockaddr': sockaddr,\n",
    "    })\n"
   ]
  },
  {
   "cell_type": "markdown",
   "id": "ed3cafc8",
   "metadata": {},
   "source": [
    "## 3. 使用 `socketpair` 演示基本收发\n",
    "\n",
    "`socket.socketpair()` 创建成对的套接字，适合在同一进程内模拟双向通信，便于教学与测试。"
   ]
  },
  {
   "cell_type": "code",
   "execution_count": null,
   "id": "6fc3cd08",
   "metadata": {},
   "outputs": [],
   "source": [
    "# 在同一进程内创建一对连接的套接字\n",
    "import socket\n",
    "\n",
    "left, right = socket.socketpair()\n",
    "try:\n",
    "    left.sendall(b\"hello\")\n",
    "    data = right.recv(1024)\n",
    "    print(\"右侧接收到:\", data)\n",
    "\n",
    "    right.sendall(b\"world\")\n",
    "    print(\"左侧接收到:\", left.recv(1024))\n",
    "finally:\n",
    "    left.close()\n",
    "    right.close()\n"
   ]
  },
  {
   "cell_type": "markdown",
   "id": "c9b04a2b",
   "metadata": {},
   "source": [
    "## 4. 构建最小 TCP 服务端与客户端\n",
    "\n",
    "以下示例展示如何在本地创建一个简单的 Echo 服务。\n",
    "\n",
    "### 注意\n",
    "- 在 Notebook 中运行时需保证端口未被占用。\n",
    "- 服务端通常在单独的线程或进程运行。\n",
    "- 演示使用 `127.0.0.1`（本地回环地址），避免网络权限问题。\n"
   ]
  },
  {
   "cell_type": "code",
   "execution_count": null,
   "id": "c81b119f",
   "metadata": {},
   "outputs": [],
   "source": [
    "# 简易 TCP Echo 服务示例（服务器 + 客户端）\n",
    "import socket\n",
    "import threading\n",
    "\n",
    "HOST = '127.0.0.1'\n",
    "PORT = 50500\n",
    "\n",
    "\n",
    "def handle_client(conn, addr):\n",
    "    with conn:\n",
    "        print(f\"客户端连接: {addr}\")\n",
    "        while True:\n",
    "            data = conn.recv(1024)\n",
    "            if not data:\n",
    "                break\n",
    "            conn.sendall(data)\n",
    "        print(f\"客户端断开: {addr}\")\n",
    "\n",
    "\n",
    "def start_server():\n",
    "    with socket.socket(socket.AF_INET, socket.SOCK_STREAM) as server:\n",
    "        server.setsockopt(socket.SOL_SOCKET, socket.SO_REUSEADDR, 1)\n",
    "        server.bind((HOST, PORT))\n",
    "        server.listen()\n",
    "        print(f\"Echo 服务监听 {HOST}:{PORT}\")\n",
    "        while True:\n",
    "            conn, addr = server.accept()\n",
    "            thread = threading.Thread(target=handle_client, args=(conn, addr), daemon=True)\n",
    "            thread.start()\n",
    "\n",
    "\n",
    "server_thread = threading.Thread(target=start_server, daemon=True)\n",
    "server_thread.start()\n",
    "\n",
    "# 客户端演示\n",
    "with socket.create_connection((HOST, PORT)) as client:\n",
    "    client.sendall(b\"hello socket\")\n",
    "    response = client.recv(1024)\n",
    "    print(\"客户端收到:\", response.decode())\n"
   ]
  },
  {
   "cell_type": "markdown",
   "id": "9e3f47a6",
   "metadata": {},
   "source": [
    "## 5. UDP 通信示例\n",
    "\n",
    "UDP 为无连接协议，适合实时性要求高而允许丢包的场景（如影音流、简单心跳）。示例展示如何发送与接收数据报。"
   ]
  },
  {
   "cell_type": "code",
   "execution_count": null,
   "id": "d387c135",
   "metadata": {},
   "outputs": [],
   "source": [
    "# UDP Send/Receive 示例（同进程模拟）\n",
    "import socket\n",
    "\n",
    "SERVER_ADDR = ('127.0.0.1', 50600)\n",
    "\n",
    "with socket.socket(socket.AF_INET, socket.SOCK_DGRAM) as server:\n",
    "    server.bind(SERVER_ADDR)\n",
    "    server.settimeout(1)\n",
    "\n",
    "    with socket.socket(socket.AF_INET, socket.SOCK_DGRAM) as client:\n",
    "        client.sendto(b\"ping\", SERVER_ADDR)\n",
    "        try:\n",
    "            data, address = server.recvfrom(1024)\n",
    "            print(\"服务器收到:\", data, \"来自\", address)\n",
    "            server.sendto(b\"pong\", address)\n",
    "        except socket.timeout:\n",
    "            print(\"服务器等待超时\")\n",
    "\n",
    "        client.settimeout(1)\n",
    "        try:\n",
    "            reply, _ = client.recvfrom(1024)\n",
    "            print(\"客户端收到:\", reply)\n",
    "        except socket.timeout:\n",
    "            print(\"客户端等待超时\")\n"
   ]
  },
  {
   "cell_type": "markdown",
   "id": "498e2a7b",
   "metadata": {},
   "source": [
    "### 5.1 socket 版 TCP Echo（同步）与 UDP Echo\n",
    "\n",
    "下面通过两个最小示例，展示如何使用 `socket` 创建同步的 TCP Echo 服务端/客户端以及一个单往返的 UDP Echo。示例使用大量注释强调关键步骤，便于教学。"
   ]
  },
  {
   "cell_type": "code",
   "execution_count": null,
   "id": "9339722f",
   "metadata": {},
   "outputs": [],
   "source": [
    "# --- 同步 TCP Echo 示例 ---\n",
    "import socket\n",
    "\n",
    "HOST = '127.0.0.1'\n",
    "PORT = 50700\n",
    "\n",
    "# 1) 构建 TCP 套接字并绑定到本地端口。\n",
    "server = socket.socket(socket.AF_INET, socket.SOCK_STREAM)\n",
    "server.setsockopt(socket.SOL_SOCKET, socket.SO_REUSEADDR, 1)\n",
    "server.bind((HOST, PORT))\n",
    "server.listen(1)  # 同步示例，仅接受一个连接即可\n",
    "print(f\"[TCP] 服务器监听 {HOST}:{PORT}\")\n",
    "\n",
    "# 2) 客户端建立连接并发送消息。\n",
    "client = socket.create_connection((HOST, PORT))\n",
    "client.sendall(b\"hello tcp\\n\")\n",
    "\n",
    "# 3) 服务器 accept 连接，这一步会阻塞直到有客户端到来。\n",
    "conn, addr = server.accept()\n",
    "print(f\"[TCP] 服务器收到连接: {addr}\")\n",
    "\n",
    "# 4) 服务器读取数据后原样返回，实现 Echo。\n",
    "data = conn.recv(1024)\n",
    "print(f\"[TCP] 服务器收到: {data!r}\")\n",
    "conn.sendall(data)\n",
    "\n",
    "# 5) 客户端读取服务器返回的内容。\n",
    "reply = client.recv(1024)\n",
    "print(f\"[TCP] 客户端收到: {reply!r}\")\n",
    "\n",
    "# 6) 关闭双方连接与监听套接字，释放资源。\n",
    "conn.close()\n",
    "client.close()\n",
    "server.close()\n",
    "\n",
    "# --- UDP Echo 示例 ---\n",
    "\n",
    "# UDP 无连接，双方使用 sendto / recvfrom 即可。\n",
    "udp_server = socket.socket(socket.AF_INET, socket.SOCK_DGRAM)\n",
    "udp_server.bind((HOST, PORT + 1))\n",
    "print(f\"[UDP] 服务器绑定 {HOST}:{PORT + 1}\")\n",
    "\n",
    "udp_client = socket.socket(socket.AF_INET, socket.SOCK_DGRAM)\n",
    "udp_message = b\"hello udp\"\n",
    "udp_client.sendto(udp_message, (HOST, PORT + 1))\n",
    "print(f\"[UDP] 客户端发送: {udp_message!r}\")\n",
    "\n",
    "received, client_addr = udp_server.recvfrom(1024)\n",
    "print(f\"[UDP] 服务器收到: {received!r} 来自 {client_addr}\")\n",
    "udp_server.sendto(received, client_addr)\n",
    "\n",
    "udp_echo, _ = udp_client.recvfrom(1024)\n",
    "print(f\"[UDP] 客户端收到: {udp_echo!r}\")\n",
    "\n",
    "udp_client.close()\n",
    "udp_server.close()\n"
   ]
  },
  {
   "cell_type": "markdown",
   "id": "e50d1e24",
   "metadata": {},
   "source": [
    "## 6. 套接字选项与超时\n",
    "\n",
    "- 使用 `setdefaulttimeout` 或 `socket.settimeout` 控制阻塞时间。\n",
    "- `setsockopt` 可开启 `SO_REUSEADDR`、`TCP_NODELAY` 等高级特性。"
   ]
  },
  {
   "cell_type": "code",
   "execution_count": null,
   "id": "eb9edd20",
   "metadata": {},
   "outputs": [],
   "source": [
    "# 设置超时时间示例\n",
    "import socket\n",
    "\n",
    "sock = socket.socket(socket.AF_INET, socket.SOCK_STREAM)\n",
    "sock.settimeout(0.5)  # 秒\n",
    "print(\"当前超时设置:\", sock.gettimeout())\n",
    "\n",
    "# 调整 TCP_NODELAY（禁用 Nagle 算法）\n",
    "sock.setsockopt(socket.IPPROTO_TCP, socket.TCP_NODELAY, 1)\n",
    "print(\"TCP_NODELAY 设置完成\")\n",
    "sock.close()\n"
   ]
  },
  {
   "cell_type": "markdown",
   "id": "96b8136c",
   "metadata": {},
   "source": [
    "## 7. 资源清理与上下文管理\n",
    "\n",
    "- 使用 `with socket.socket(...) as sock:` 保证退出时自动关闭。\n",
    "- 在多线程环境中结合 `daemon=True` 或显式 join，避免资源泄漏。"
   ]
  },
  {
   "cell_type": "code",
   "execution_count": null,
   "id": "aaadc42b",
   "metadata": {},
   "outputs": [],
   "source": [
    "# 使用上下文管理器确保关闭套接字\n",
    "import socket\n",
    "\n",
    "with socket.socket(socket.AF_INET, socket.SOCK_STREAM) as temp_sock:\n",
    "    temp_sock.bind(('127.0.0.1', 0))  # 端口 0 让系统自动分配临时端口\n",
    "    addr = temp_sock.getsockname()\n",
    "    print(\"临时监听地址:\", addr)\n",
    "\n",
    "print(\"超出 with 语句后套接字自动关闭\")\n"
   ]
  },
  {
   "cell_type": "markdown",
   "id": "23b2248e",
   "metadata": {},
   "source": [
    "## 8. 常见调试技巧\n",
    "\n",
    "- 使用 `nc`（netcat）或 `telnet` 与自写服务交互。\n",
    "- `tcpdump`/`Wireshark` 捕获报文分析协议细节。\n",
    "- 通过 `socket.getsockname()` 与 `getpeername()` 查看本端/远端地址。\n",
    "- 开启日志记录，输出关键事件与异常信息便于定位问题。"
   ]
  },
  {
   "cell_type": "markdown",
   "id": "1218628f",
   "metadata": {},
   "source": [
    "## 9. 非阻塞模式与 `setblocking`\n",
    "\n",
    "- 默认情况下套接字是阻塞的，`recv`/`send` 会等待直到有结果。\n",
    "- 使用 `setblocking(False)` 或 `settimeout(0)` 可切换为非阻塞模式；无数据时会抛出 `BlockingIOError`。\n",
    "- 结合非阻塞 I/O 可以构建自己的事件循环或与 `select`/`selectors` 配合。"
   ]
  },
  {
   "cell_type": "code",
   "execution_count": null,
   "id": "be101ed6",
   "metadata": {},
   "outputs": [],
   "source": [
    "# 使用 socketpair 演示阻塞与非阻塞行为\n",
    "import socket\n",
    "\n",
    "left, right = socket.socketpair()\n",
    "try:\n",
    "    left.setblocking(False)\n",
    "    try:\n",
    "        left.recv(1)\n",
    "    except BlockingIOError as exc:\n",
    "        print(\"非阻塞套接字在无数据时抛出:\", exc)\n",
    "\n",
    "    # 发送数据后再尝试读取\n",
    "    right.sendall(b\"data\")\n",
    "    print(\"读取到:\", left.recv(4))\n",
    "finally:\n",
    "    left.close()\n",
    "    right.close()\n"
   ]
  },
  {
   "cell_type": "markdown",
   "id": "18a10655",
   "metadata": {},
   "source": [
    "## 10. 使用 `selectors` 管理多个连接\n",
    "\n",
    "`selectors` 模块封装了 `select`/`poll` 等系统调用，可在单线程内同时处理多个连接："
   ]
  },
  {
   "cell_type": "code",
   "execution_count": null,
   "id": "3ecdfced",
   "metadata": {},
   "outputs": [],
   "source": [
    "# 使用 selectors 构建简化的 echo 循环\n",
    "import selectors\n",
    "import socket\n",
    "\n",
    "sel = selectors.DefaultSelector()\n",
    "server = socket.socket(socket.AF_INET, socket.SOCK_STREAM)\n",
    "server.setsockopt(socket.SOL_SOCKET, socket.SO_REUSEADDR, 1)\n",
    "server.bind(('127.0.0.1', 0))\n",
    "server.listen()\n",
    "server.setblocking(False)\n",
    "sel.register(server, selectors.EVENT_READ)\n",
    "\n",
    "server_host, server_port = server.getsockname()\n",
    "\n",
    "client = socket.create_connection((server_host, server_port))\n",
    "client.sendall(b'hello from selectors')\n",
    "client.shutdown(socket.SHUT_WR)\n",
    "\n",
    "done = False\n",
    "while not done:\n",
    "    for key, mask in sel.select(timeout=1):\n",
    "        if key.fileobj is server:\n",
    "            conn, addr = server.accept()\n",
    "            conn.setblocking(False)\n",
    "            sel.register(conn, selectors.EVENT_READ, bytearray())\n",
    "        else:\n",
    "            conn = key.fileobj\n",
    "            buffer = key.data\n",
    "            chunk = conn.recv(1024)\n",
    "            if chunk:\n",
    "                buffer.extend(chunk)\n",
    "                conn.sendall(b'ECHO:' + chunk)\n",
    "            else:\n",
    "                print('服务端收到:', buffer.decode())\n",
    "                sel.unregister(conn)\n",
    "                conn.close()\n",
    "                done = True\n",
    "    if not sel.get_map():\n",
    "        break\n",
    "\n",
    "print('客户端收到:', client.recv(1024).decode())\n",
    "client.close()\n",
    "sel.unregister(server)\n",
    "server.close()\n",
    "sel.close()\n"
   ]
  },
  {
   "cell_type": "markdown",
   "id": "1e9b86a5",
   "metadata": {},
   "source": [
    "## 11. 将套接字当作文件对象\n",
    "\n",
    "- `socket.makefile()` 返回类文件对象，方便使用 `readline()`、`read()` 等方法处理文本协议。\n",
    "- 标准库 `socketserver`、`http.server` 等高层框架内部也大量使用 `makefile`。"
   ]
  },
  {
   "cell_type": "code",
   "execution_count": null,
   "id": "32b7272b",
   "metadata": {},
   "outputs": [],
   "source": [
    "# 使用 makefile 将 socket 抽象为文件对象\n",
    "import socket\n",
    "\n",
    "left, right = socket.socketpair()\n",
    "try:\n",
    "    with left.makefile('wb') as writer, right.makefile('rb') as reader:\n",
    "        writer.write(b'first line second line')\n",
    "        writer.flush()\n",
    "        print('读取 1:', reader.readline().decode().strip())\n",
    "        print('读取 2:', reader.readline().decode().strip())\n",
    "finally:\n",
    "    left.close()\n",
    "    right.close()\n"
   ]
  },
  {
   "cell_type": "markdown",
   "id": "4a37a801",
   "metadata": {},
   "source": [
    "## 12. TLS/SSL 安全连接概览\n",
    "\n",
    "- 使用 `ssl` 模块可以在套接字之上构建加密通道。\n",
    "- 推荐通过 `ssl.create_default_context()` 创建安全的默认配置，并在客户端调用 `wrap_socket` 或 `SSLContext.wrap_socket`。\n",
    "- 下面示例展示客户端与服务端的基本包装方法（演示代码不会主动连往互联网，运行需自行准备 TLS 服务端或证书）。"
   ]
  },
  {
   "cell_type": "code",
   "execution_count": 2,
   "id": "2cbb9354",
   "metadata": {
    "ExecuteTime": {
     "end_time": "2025-10-29T12:01:48.792800Z",
     "start_time": "2025-10-29T12:01:48.783240Z"
    }
   },
   "outputs": [],
   "source": [
    "# TLS 客户端与服务端包装示例（演示用途）\n",
    "import socket\n",
    "import ssl\n",
    "\n",
    "context = ssl.create_default_context()\n",
    "\n",
    "# 作为客户端连接安全服务\n",
    "def https_get(hostname: str, port: int = 443) -> bytes:\n",
    "    with socket.create_connection((hostname, port)) as sock:\n",
    "        with context.wrap_socket(sock, server_hostname=hostname) as tls_sock:\n",
    "            request = f\"GET / HTTP/1.1 Host: {hostname} Connection: close\".encode()\n",
    "            tls_sock.sendall(request)\n",
    "            chunks = []\n",
    "            while True:\n",
    "                data = tls_sock.recv(4096)\n",
    "                if not data:\n",
    "                    break\n",
    "                chunks.append(data)\n",
    "    return b''.join(chunks)\n",
    "\n",
    "# 在本地构建 TLS 服务端时，可使用自签证书并通过 SSLContext.wrap_socket(server_socket, server_side=True)\n"
   ]
  },
  {
   "cell_type": "markdown",
   "id": "2ca66429",
   "metadata": {},
   "source": [
    "## 13. 小结与练习建议\n",
    "- 熟悉 TCP/UDP 创建流程：`socket` → `bind` → `listen/accept` 或 `connect`。\n",
    "- 合理设置 `timeout`、`SO_REUSEADDR`、`TCP_NODELAY` 等选项，理解阻塞与非阻塞差异。\n",
    "- 使用 `selectors`/`asyncio` 提升并发处理效率，必要时搭配 `makefile` 简化文本协议处理。\n",
    "- 练习：编写一个服务端，将客户端发送的 JSON 消息解析后返回格式化响应。\n",
    "- 练习：实现简单聊天室，使用多线程或 `selectors` 管理多个客户端，并尝试加上 TLS 加密。\n",
    "- 推荐进一步了解 `socketserver`、`asyncio.Streams`、`trio` 等高层框架。"
   ]
  }
 ],
 "metadata": {
  "kernelspec": {
   "display_name": "Python 3 (ipykernel)",
   "language": "python",
   "name": "python3"
  },
  "language_info": {
   "codemirror_mode": {
    "name": "ipython",
    "version": 3
   },
   "file_extension": ".py",
   "mimetype": "text/x-python",
   "name": "python",
   "nbconvert_exporter": "python",
   "pygments_lexer": "ipython3",
   "version": "3.14.0"
  }
 },
 "nbformat": 4,
 "nbformat_minor": 5
}
