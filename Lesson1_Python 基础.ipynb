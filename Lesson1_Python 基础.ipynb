{
 "cells": [
  {
   "cell_type": "markdown",
   "id": "cee3807f",
   "metadata": {},
   "source": [
    "# Lesson 1：Python 基础快速上手"
   ]
  },
  {
   "cell_type": "markdown",
   "id": "ae68f947",
   "metadata": {},
   "source": [
    "## 学习目标\n",
    "- 了解如何在 Python 中编写并运行最简单的表达式。\n",
    "- 熟悉常见内置数据类型以及变量的基本用法。\n",
    "- 学会使用条件判断与循环控制代码流程。\n",
    "- 初步认识函数，让代码更模块化。"
   ]
  },
  {
   "cell_type": "markdown",
   "id": "f794a829",
   "metadata": {},
   "source": [
    "## 1. Hello, Python!\n",
    "\n",
    "可以把 Python 当作一个可以直接计算的“高级计算器”，也是一门通用编程语言。"
   ]
  },
  {
   "cell_type": "code",
   "execution_count": null,
   "id": "c6080924",
   "metadata": {},
   "outputs": [],
   "source": [
    "# 使用 print 输出文本\n",
    "print(\"Hello, Python!\")\n",
    "\n",
    "# Python 也可以直接进行数值运算\n",
    "result = (2 + 3) * 4\n",
    "print(\"计算结果:\", result)\n"
   ]
  },
  {
   "cell_type": "markdown",
   "id": "a117a34d",
   "metadata": {},
   "source": [
    "## 2. 变量与数据类型\n",
    "\n",
    "变量相当于贴标签的盒子，用于存放数据。Python 的常见基础类型有整数、浮点数、布尔值和字符串。"
   ]
  },
  {
   "cell_type": "code",
   "execution_count": 1,
   "id": "22490493",
   "metadata": {
    "ExecuteTime": {
     "end_time": "2025-10-29T11:23:44.409041Z",
     "start_time": "2025-10-29T11:23:44.406399Z"
    }
   },
   "outputs": [
    {
     "name": "stdout",
     "output_type": "stream",
     "text": [
      "18 1.72 True Alice\n",
      "<class 'int'> <class 'float'> <class 'bool'> <class 'str'>\n"
     ]
    }
   ],
   "source": [
    "# 给变量赋值\n",
    "age = 18          # 整数（int）\n",
    "height = 1.72     # 浮点数（float）\n",
    "is_student = True # 布尔值（bool）\n",
    "name = \"Alice\"    # 字符串（str）\n",
    "\n",
    "print(age, height, is_student, name)\n",
    "print(type(age), type(height), type(is_student), type(name))\n"
   ]
  },
  {
   "cell_type": "markdown",
   "id": "b613c74d",
   "metadata": {},
   "source": [
    "### 2.1 字符串常用操作"
   ]
  },
  {
   "cell_type": "code",
   "execution_count": null,
   "id": "9c6f980a",
   "metadata": {},
   "outputs": [],
   "source": [
    "# 字符串拼接与格式化\n",
    "first = \"Python\"\n",
    "second = \"入门\"\n",
    "combined = first + second\n",
    "print(combined)\n",
    "\n",
    "# f-string 让格式化更直观\n",
    "language = \"Python\"\n",
    "years = 3\n",
    "print(f\"我学习 {language} 已经 {years} 年。\")\n",
    "\n",
    "# 常用方法：lower / upper / replace\n",
    "message = \"Hello World\"\n",
    "print(message.lower())\n",
    "print(message.upper())\n",
    "print(message.replace(\"World\", \"Python\"))\n"
   ]
  },
  {
   "cell_type": "markdown",
   "id": "90ccebb6",
   "metadata": {},
   "source": [
    "### 2.2 列表与字典"
   ]
  },
  {
   "cell_type": "code",
   "execution_count": null,
   "id": "4b1df52d",
   "metadata": {},
   "outputs": [],
   "source": [
    "# 列表（list）是有序集合\n",
    "colors = [\"red\", \"green\", \"blue\"]\n",
    "colors.append(\"yellow\")  # 追加元素\n",
    "print(colors)\n",
    "print(colors[0])          # 按索引访问\n",
    "\n",
    "# 字典（dict）是键值对映射\n",
    "person = {\"name\": \"Alice\", \"age\": 18}\n",
    "person[\"city\"] = \"Shanghai\"  # 新增键值对\n",
    "print(person)\n",
    "print(person.get(\"age\"))\n"
   ]
  },
  {
   "cell_type": "markdown",
   "id": "25f28d4f",
   "metadata": {},
   "source": [
    "## 3. 条件判断\n",
    "\n",
    "使用 `if` 语句根据条件执行不同的代码分支。"
   ]
  },
  {
   "cell_type": "code",
   "execution_count": null,
   "id": "57b52900",
   "metadata": {},
   "outputs": [],
   "source": [
    "# 判断输入的分数对应的等级\n",
    "score = 78\n",
    "\n",
    "if score >= 90:\n",
    "    grade = \"A\"\n",
    "elif score >= 75:\n",
    "    grade = \"B\"\n",
    "elif score >= 60:\n",
    "    grade = \"C\"\n",
    "else:\n",
    "    grade = \"D\"\n",
    "\n",
    "print(f\"分数 {score} 对应等级 {grade}\")\n"
   ]
  },
  {
   "cell_type": "markdown",
   "id": "0344c8d8",
   "metadata": {},
   "source": [
    "## 4. 循环：`for` 与 `while`"
   ]
  },
  {
   "cell_type": "code",
   "execution_count": null,
   "id": "f693468e",
   "metadata": {},
   "outputs": [],
   "source": [
    "# for 循环遍历列表\n",
    "fruits = [\"apple\", \"banana\", \"cherry\"]\n",
    "for fruit in fruits:\n",
    "    print(f\"喜欢的水果: {fruit}\")\n",
    "\n",
    "# while 循环在满足条件时持续执行\n",
    "count = 0\n",
    "while count < 3:\n",
    "    print(\"while 循环执行次数:\", count)\n",
    "    count += 1\n"
   ]
  },
  {
   "cell_type": "markdown",
   "id": "3dd4ede3",
   "metadata": {},
   "source": [
    "## 5. 函数入门\n",
    "\n",
    "函数可以把重复使用的逻辑打包起来，调用时只需关注输入和输出。"
   ]
  },
  {
   "cell_type": "code",
   "execution_count": null,
   "id": "79cc0280",
   "metadata": {},
   "outputs": [],
   "source": [
    "# 定义函数并返回结果\n",
    "\n",
    "def calculate_area(width, height):\n",
    "    \"\"\"Return area of a rectangle.\"\"\"\n",
    "    return width * height\n",
    "\n",
    "area = calculate_area(3, 4)\n",
    "print(f\"矩形面积: {area}\")\n"
   ]
  },
  {
   "cell_type": "markdown",
   "id": "0cc21b16",
   "metadata": {},
   "source": [
    "### 5.1 综合示例：统计列表中的偶数个数"
   ]
  },
  {
   "cell_type": "code",
   "execution_count": null,
   "id": "e7d41197",
   "metadata": {},
   "outputs": [],
   "source": [
    "# 将判断与循环组合使用\n",
    "\n",
    "def count_even(numbers):\n",
    "    \"\"\"Count how many even numbers appear in the list.\"\"\"\n",
    "    counter = 0\n",
    "    for value in numbers:\n",
    "        if value % 2 == 0:\n",
    "            counter += 1\n",
    "    return counter\n",
    "\n",
    "sample = [2, 5, 8, 11, 14]\n",
    "print(f\"偶数数量: {count_even(sample)}\")\n"
   ]
  },
  {
   "cell_type": "markdown",
   "id": "4648999e",
   "metadata": {},
   "source": [
    "## 6. 与用户交互：`input` 与类型转换\n",
    "\n",
    "- 使用 `input()` 从终端读取字符串。\n",
    "- 结合 `int()`、`float()` 等内置函数进行类型转换。\n",
    "- 实际脚本中需考虑用户输入错误，必要时捕获异常。"
   ]
  },
  {
   "cell_type": "code",
   "execution_count": null,
   "id": "220411f4",
   "metadata": {},
   "outputs": [],
   "source": [
    "# 将字符串输入转换为数字\n",
    "# 注意：在 Notebook 中运行时需要手动输入内容；这里给出示例逻辑\n",
    "\n",
    "raw_age = \"21\"            # 示例：假设 input() 返回字符串 \"21\"\n",
    "age = int(raw_age)        # int() 将字符串转为整数\n",
    "\n",
    "raw_height = \"1.75\"\n",
    "height = float(raw_height)  # float() 将字符串转为浮点数\n",
    "\n",
    "print(f\"年龄: {age}, 类型: {type(age)}\")\n",
    "print(f\"身高: {height}, 类型: {type(height)}\")\n"
   ]
  },
  {
   "cell_type": "code",
   "execution_count": null,
   "id": "3b8dd9ad",
   "metadata": {},
   "outputs": [],
   "source": [
    "# 结合 try/except 处理非数字输入\n",
    "user_input = \"abc\"  # 示例：用户输入了无法转换的字符串\n",
    "\n",
    "try:\n",
    "    number = float(user_input)\n",
    "    print(f\"成功转换: {number}\")\n",
    "except ValueError:\n",
    "    print(\"请输入合法的数字！\")\n"
   ]
  },
  {
   "cell_type": "markdown",
   "id": "0c839ce8",
   "metadata": {},
   "source": [
    "## 7. 列表推导式与内置函数\n",
    "\n",
    "列表推导式可以在一行内创建新列表，配合 `sum`、`min`、`max` 等内置函数让代码更加简洁。"
   ]
  },
  {
   "cell_type": "code",
   "execution_count": null,
   "id": "438b4e53",
   "metadata": {},
   "outputs": [],
   "source": [
    "# 使用列表推导式生成平方数列表\n",
    "numbers = [1, 2, 3, 4, 5]\n",
    "squares = [n ** 2 for n in numbers]\n",
    "print(squares)\n",
    "\n",
    "# 结合条件筛选\n",
    "evens = [n for n in numbers if n % 2 == 0]\n",
    "print(evens)\n",
    "\n",
    "# 内置函数示例\n",
    "print(\"总和:\", sum(numbers))\n",
    "print(\"最大值:\", max(numbers))\n",
    "print(\"最小值:\", min(numbers))\n"
   ]
  },
  {
   "cell_type": "markdown",
   "id": "9f7f136b",
   "metadata": {},
   "source": [
    "## 8. 迷你项目：账本小助手\n",
    "\n",
    "综合运用所学内容，编写一个简单函数，统计任意支出列表的总额并给出平均支出。"
   ]
  },
  {
   "cell_type": "code",
   "execution_count": null,
   "id": "b26c3944",
   "metadata": {},
   "outputs": [],
   "source": [
    "# 小项目：计算总支出与平均值\n",
    "\n",
    "def summarize_expenses(expenses):\n",
    "    \"\"\"Return total amount and average expense.\"\"\"\n",
    "    if not expenses:\n",
    "        return 0, 0\n",
    "    total = sum(expenses)\n",
    "    average = total / len(expenses)\n",
    "    return total, average\n",
    "\n",
    "sample_expenses = [25.5, 40, 13.2, 88]\n",
    "amount, avg = summarize_expenses(sample_expenses)\n",
    "print(f\"总支出: {amount}\")\n",
    "print(f\"平均支出: {avg:.2f}\")\n"
   ]
  },
  {
   "cell_type": "markdown",
   "id": "f1322c4d",
   "metadata": {},
   "source": [
    "## 9. 下一步练习建议\n",
    "- 修改 `calculate_area`，让它支持默认参数，例如高度缺省时默认为 1。\n",
    "- 编写一个函数 `summarize(numbers)`，返回列表的最小值、最大值与平均值。\n",
    "- 将 `count_even` 改写为只统计奇数，体会条件判断的灵活性。\n",
    "- 尝试使用字典存储班级同学的成绩，并计算全班平均分。\n",
    "- 写一个小脚本：从 `input()` 读取数字列表（逗号分隔），输出去重后的平方值列表。\n"
   ]
  }
 ],
 "metadata": {
  "kernelspec": {
   "display_name": "Python 3 (ipykernel)",
   "language": "python",
   "name": "python3"
  },
  "language_info": {
   "codemirror_mode": {
    "name": "ipython",
    "version": 3
   },
   "file_extension": ".py",
   "mimetype": "text/x-python",
   "name": "python",
   "nbconvert_exporter": "python",
   "pygments_lexer": "ipython3",
   "version": "3.14.0"
  }
 },
 "nbformat": 4,
 "nbformat_minor": 5
}
