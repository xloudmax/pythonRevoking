{
 "cells": [
  {
   "cell_type": "markdown",
   "id": "bf2c6f44",
   "metadata": {},
   "source": [
    "# Lesson 4：Python 迭代器详解"
   ]
  },
  {
   "cell_type": "markdown",
   "id": "8b5a5d27",
   "metadata": {},
   "source": [
    "本节内容围绕“迭代器”展开：先从概念入手，再拆解底层协议，最后通过示例展示从手写迭代器到 `itertools` 的多种用法。"
   ]
  },
  {
   "cell_type": "markdown",
   "id": "96408948",
   "metadata": {},
   "source": [
    "## 1. 基本概念：迭代器与可迭代对象\n",
    "\n",
    "- **可迭代对象（Iterable）**：实现了 `__iter__()` 方法，或定义了适用于迭代的序列协议（如列表、字符串）。\n",
    "- **迭代器（Iterator）**：在 `__iter__()` 之外还实现 `__next__()`，每次调用返回下一个元素。\n",
    "- Python 内置函数 `iter()` 会从可迭代对象中获取迭代器，`next()` 则显式获取下一个值。"
   ]
  },
  {
   "cell_type": "markdown",
   "id": "4836e252",
   "metadata": {},
   "source": [
    "### 1.1 常见内置可迭代对象\n",
    "\n",
    "- 序列类型：`list`、`tuple`、`range` 等都实现了 `__iter__`，每次遍历都会生成新的迭代器对象。\n",
    "- 映射与集合：`dict` 默认迭代键，`set`、`frozenset` 等无序容器也提供迭代器。\n",
    "- 文本与二进制流：字符串、字节串、文件对象都支持按元素或按行的迭代。\n",
    "- 迭代器本身也是可迭代对象，但它们只能遍历一次，因为 `__next__` 会逐步耗尽内部状态。\n"
   ]
  },
  {
   "cell_type": "code",
   "execution_count": 2,
   "id": "99b2a487",
   "metadata": {
    "ExecuteTime": {
     "end_time": "2025-10-29T10:41:01.307320Z",
     "start_time": "2025-10-29T10:41:01.302016Z"
    }
   },
   "outputs": [
    {
     "name": "stdout",
     "output_type": "stream",
     "text": [
      "    list -> Iterable?     1 | Iterator?     0\n",
      "           iterator type: list_iterator\n",
      "           has __next__? True\n",
      "-------------------------------------------------------\n",
      "   tuple -> Iterable?     1 | Iterator?     0\n",
      "           iterator type: tuple_iterator\n",
      "           has __next__? True\n",
      "-------------------------------------------------------\n",
      "    dict -> Iterable?     1 | Iterator?     0\n",
      "           iterator type: dict_keyiterator\n",
      "           has __next__? True\n",
      "-------------------------------------------------------\n",
      "     set -> Iterable?     1 | Iterator?     0\n",
      "           iterator type: set_iterator\n",
      "           has __next__? True\n",
      "-------------------------------------------------------\n",
      "     str -> Iterable?     1 | Iterator?     0\n",
      "           iterator type: str_ascii_iterator\n",
      "           has __next__? True\n",
      "-------------------------------------------------------\n",
      "   range -> Iterable?     1 | Iterator?     0\n",
      "           iterator type: range_iterator\n",
      "           has __next__? True\n",
      "-------------------------------------------------------\n"
     ]
    }
   ],
   "source": [
    "# 检查常见内置对象的迭代能力\n",
    "from collections.abc import Iterable, Iterator\n",
    "\n",
    "samples = {\n",
    "    \"list\": [1, 2, 3],\n",
    "    \"tuple\": (1, 2, 3),\n",
    "    \"dict\": {\"a\": 1, \"b\": 2},\n",
    "    \"set\": {1, 2, 3},\n",
    "    \"str\": \"abc\",\n",
    "    \"range\": range(3),\n",
    "}\n",
    "\n",
    "for name, obj in samples.items():\n",
    "    # iter() 会返回对象的迭代器；不同类型的返回值各不相同\n",
    "    iterator = iter(obj)\n",
    "    print(f\"{name:>8} -> Iterable? {isinstance(obj, Iterable):5} | Iterator? {isinstance(obj, Iterator):5}\")\n",
    "    print(f\"           iterator type: {type(iterator).__name__}\")\n",
    "    print(f\"           has __next__? {'__next__' in dir(iterator)}\")\n",
    "    print('-' * 55)\n"
   ]
  },
  {
   "cell_type": "code",
   "execution_count": 1,
   "id": "3410bc23",
   "metadata": {
    "ExecuteTime": {
     "end_time": "2025-10-29T10:37:49.486452Z",
     "start_time": "2025-10-29T10:37:49.483318Z"
    }
   },
   "outputs": [
    {
     "name": "stdout",
     "output_type": "stream",
     "text": [
      "10\n",
      "20\n",
      "30\n",
      "迭代完成，StopIteration 被捕获\n"
     ]
    }
   ],
   "source": [
    "# 使用 iter() 与 next() 手动遍历列表，以观察迭代过程\n",
    "numbers = [10, 20, 30]\n",
    "iterator = iter(numbers)        # 通过 iter() 获取迭代器对象\n",
    "\n",
    "print(next(iterator))           # 第一次调用 next() 返回 10\n",
    "print(next(iterator))           # 第二次调用返回 20\n",
    "print(next(iterator))           # 第三次调用返回 30\n",
    "\n",
    "try:\n",
    "    print(next(iterator))       # 再次调用触发 StopIteration 异常\n",
    "except StopIteration:\n",
    "    print(\"迭代完成，StopIteration 被捕获\")\n"
   ]
  },
  {
   "cell_type": "markdown",
   "id": "dad329b1",
   "metadata": {},
   "source": [
    "## 2. 底层协议：`__iter__` 与 `__next__`\n",
    "\n",
    "迭代器必须实现两个关键方法：\n",
    "\n",
    "1. `__iter__(self)`：返回迭代器本身，一般写 `return self`，便于在 `for` 循环中重复调用。\n",
    "2. `__next__(self)`：返回下一个值，若无更多元素则抛出 `StopIteration`。`for` 循环会捕获该异常并悄悄结束迭代。\n",
    "\n",
    "`iter(obj)` 与 `next(it)` 只是对这两个魔术方法的友好封装。要识别某个对象是否符合协议，可以借助 `collections.abc.Iterable` 与 `Iterator` 这两个抽象基类。\n"
   ]
  },
  {
   "cell_type": "markdown",
   "id": "9783db12",
   "metadata": {},
   "source": [
    "### 2.1 CPython 底层实现概览\n",
    "\n",
    "- `iter(obj)` 在 CPython 中调用 `PyObject_GetIter`，该函数会查找对象的 `__iter__` 方法或序列协议来创建迭代器。\n",
    "- 内置容器会返回专门的 C 级别迭代器类型，例如 `list_iterator`、`dict_keyiterator`、`set_iterator`。\n",
    "- 迭代器维护内部游标，每次 `__next__` 调用都会移动游标；到达末尾后抛出 `StopIteration`。\n",
    "- `collections.abc` 提供统一的 ABC（抽象基类）来判断对象是否符合 Iterable/Iterator 接口，方便在运行时做类型检查。\n"
   ]
  },
  {
   "cell_type": "code",
   "execution_count": 3,
   "id": "53f4da28",
   "metadata": {
    "ExecuteTime": {
     "end_time": "2025-10-29T10:41:59.154740Z",
     "start_time": "2025-10-29T10:41:59.150212Z"
    }
   },
   "outputs": [
    {
     "name": "stdout",
     "output_type": "stream",
     "text": [
      "      list_obj: Iterable?     1 | Iterator?     0\n",
      " list_iterator: Iterable?     1 | Iterator?     1\n",
      "     generator: Iterable?     1 | Iterator?     1\n",
      "True\n"
     ]
    }
   ],
   "source": [
    "# 利用抽象基类区分 Iterable 与 Iterator\n",
    "from collections.abc import Iterable, Iterator\n",
    "\n",
    "list_obj = [1, 2, 3]\n",
    "list_iterator = iter(list_obj)\n",
    "gen_expression = (n ** 2 for n in range(3))\n",
    "\n",
    "objects = {\n",
    "    \"list_obj\": list_obj,\n",
    "    \"list_iterator\": list_iterator,\n",
    "    \"generator\": gen_expression,\n",
    "}\n",
    "\n",
    "for name, obj in objects.items():\n",
    "    print(f\"{name:>14}: Iterable? {isinstance(obj, Iterable):5} | Iterator? {isinstance(obj, Iterator):5}\")\n",
    "\n",
    "# generator 本身就是迭代器；再次调用 iter() 会返回自身\n",
    "print(iter(gen_expression) is gen_expression)\n"
   ]
  },
  {
   "cell_type": "code",
   "execution_count": 1,
   "id": "d410d0c3",
   "metadata": {},
   "outputs": [
    {
     "name": "stdout",
     "output_type": "stream",
     "text": [
      "0\n",
      "1\n",
      "4\n",
      "9\n"
     ]
    }
   ],
   "source": [
    "# 从零开始实现一个计算平方数的迭代器\n",
    "class SquareIterator:\n",
    "    def __init__(self, limit):\n",
    "        # 保存迭代的上限，用于决定何时停止\n",
    "        self.limit = limit\n",
    "        # 记录下一次返回的基数，从 0 开始方便演示\n",
    "        self.current = 0\n",
    "\n",
    "    def __iter__(self):\n",
    "        # 迭代器的 __iter__ 直接返回自身，方便在 for 循环中使用\n",
    "        return self\n",
    "\n",
    "    def __next__(self):\n",
    "        # 当 current 超过 limit 时终止迭代\n",
    "        if self.current > self.limit:\n",
    "            raise StopIteration\n",
    "        # 在返回前预先计算本次结果\n",
    "        value = self.current ** 2\n",
    "        # 更新状态，确保下一次调用返回下一个平方数\n",
    "        self.current += 1\n",
    "        return value\n",
    "\n",
    "squares = SquareIterator(limit=3)\n",
    "for number in squares:\n",
    "    print(number)\n"
   ]
  },
  {
   "cell_type": "markdown",
   "id": "f8869553",
   "metadata": {},
   "source": [
    "## 3. 迭代器与自定义容器\n",
    "\n",
    "如果构建的是容器类（例如包装列表的集合类型），通常通过在容器的 `__iter__()` 方法中返回内部数据结构的迭代器，实现“可迭代但非迭代器”的模式："
   ]
  },
  {
   "cell_type": "code",
   "execution_count": null,
   "id": "b9c472bc",
   "metadata": {},
   "outputs": [],
   "source": [
    "# 自定义容器类，让其可迭代但本身不是迭代器\n",
    "class TagCollection:\n",
    "    def __init__(self, *tags):\n",
    "        # 存放标签的底层列表\n",
    "        self._tags = list(tags)\n",
    "\n",
    "    def __iter__(self):\n",
    "        # 返回列表自带的迭代器对象\n",
    "        return iter(self._tags)\n",
    "\n",
    "    def add(self, tag):\n",
    "        # 示例方法：向集合中追加新标签\n",
    "        self._tags.append(tag)\n",
    "\n",
    "favorite_tags = TagCollection(\"python\", \"生成器\", \"itertools\")\n",
    "for tag in favorite_tags:\n",
    "    print(tag)\n",
    "\n",
    "# 再次遍历不会出问题，因为每次 for 循环都会调用 __iter__ 生成新的迭代器\n",
    "for tag in favorite_tags:\n",
    "    print(tag.upper())\n"
   ]
  },
  {
   "cell_type": "markdown",
   "id": "276297db",
   "metadata": {},
   "source": [
    "## 4. 生成器：语法糖式的迭代器\n",
    "\n",
    "生成器函数通过 `yield` 关键字自动实现迭代协议，写法更简洁："
   ]
  },
  {
   "cell_type": "code",
   "execution_count": 4,
   "id": "c0b52453",
   "metadata": {
    "ExecuteTime": {
     "end_time": "2025-10-29T10:42:11.163102Z",
     "start_time": "2025-10-29T10:42:11.159853Z"
    }
   },
   "outputs": [
    {
     "name": "stdout",
     "output_type": "stream",
     "text": [
      "0\n",
      "1\n",
      "1\n",
      "2\n",
      "3\n",
      "5\n"
     ]
    }
   ],
   "source": [
    "# 用生成器函数输出斐波那契数列\n",
    "\n",
    "def fibonacci(limit):\n",
    "    # 初始化前两个基数\n",
    "    a, b = 0, 1\n",
    "    count = 0\n",
    "    while count < limit:\n",
    "        yield a                 # yield 会暂停函数并返回当前值\n",
    "        a, b = b, a + b         # 更新两个变量以生成下一个数\n",
    "        count += 1\n",
    "\n",
    "for value in fibonacci(6):\n",
    "    print(value)\n"
   ]
  },
  {
   "cell_type": "markdown",
   "id": "18225d4d",
   "metadata": {},
   "source": [
    "## 5. 生成器表达式与惰性计算\n",
    "\n",
    "除了生成器函数，Python 还提供生成器表达式，用圆括号包裹推导式："
   ]
  },
  {
   "cell_type": "code",
   "execution_count": null,
   "id": "5ae2d220",
   "metadata": {},
   "outputs": [],
   "source": [
    "# 生成器表达式用于惰性生成数据，避免一次性占用大量内存\n",
    "squared_numbers = (n ** 2 for n in range(5))\n",
    "print(next(squared_numbers))    # 惰性求值，逐个生成\n",
    "print(list(squared_numbers))    # 将剩余元素耗尽并收集为列表\n"
   ]
  },
  {
   "cell_type": "markdown",
   "id": "67952ba1",
   "metadata": {},
   "source": [
    "## 6. `itertools`：构建复杂迭代流程\n",
    "\n",
    "标准库 `itertools` 提供了大量高性能迭代器构件件，可以按乐高积木一样组合："
   ]
  },
  {
   "cell_type": "code",
   "execution_count": 2,
   "id": "e64d6db6",
   "metadata": {},
   "outputs": [
    {
     "name": "stdout",
     "output_type": "stream",
     "text": [
      "['A', 'B', 'C', 'A', 'B', 'C', 'A']\n",
      "[1, 2, 3, 4, 5, 6]\n",
      "[1, 3, 6, 10]\n"
     ]
    }
   ],
   "source": [
    "# 组合 itertools 工具快速构建复杂迭代逻辑\n",
    "import itertools\n",
    "\n",
    "# cycle 可以无限循环某个序列；islice 用于截取有限长度，防止无限循环\n",
    "cycled = itertools.islice(itertools.cycle([\"A\", \"B\", \"C\"]), 7)\n",
    "print(list(cycled))\n",
    "\n",
    "# chain 可以把多个可迭代对象拼接在一起\n",
    "combined = itertools.chain([1, 2], range(3, 5), (5, 6))\n",
    "print(list(combined))\n",
    "\n",
    "# accumulate 可以在迭代过程中累加，生成前缀和序列\n",
    "prefix_sum = itertools.accumulate([1, 2, 3, 4])\n",
    "print(list(prefix_sum))\n"
   ]
  },
  {
   "cell_type": "markdown",
   "id": "3b2cd084",
   "metadata": {},
   "source": [
    "## 7. 小结\n",
    "\n",
    "- 迭代器依赖 `__iter__` 与 `__next__` 协议，`StopIteration` 用于终止。\n",
    "- 自定义容器通常只需返回内部数据结构的迭代器。\n",
    "- 生成器函数与表达式提供了直观的方式构建迭代器。\n",
    "- 利用 `itertools` 可以高效地组合复杂的迭代模式。"
   ]
  }
 ],
 "metadata": {
  "kernelspec": {
   "display_name": "Python 3 (ipykernel)",
   "language": "python",
   "name": "python3"
  },
  "language_info": {
   "codemirror_mode": {
    "name": "ipython",
    "version": 3
   },
   "file_extension": ".py",
   "mimetype": "text/x-python",
   "name": "python",
   "nbconvert_exporter": "python",
   "pygments_lexer": "ipython3",
   "version": "3.14.0"
  }
 },
 "nbformat": 4,
 "nbformat_minor": 5
}
