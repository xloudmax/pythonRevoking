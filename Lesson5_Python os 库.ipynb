{
 "cells": [
  {
   "cell_type": "markdown",
   "id": "0a86c5ad",
   "metadata": {},
   "source": [
    "# Lesson 5：Python `os` 库详解"
   ]
  },
  {
   "cell_type": "markdown",
   "id": "31bbfd22",
   "metadata": {},
   "source": [
    "`os` 模块提供了访问操作系统功能的统一接口，帮助 Python 程序在不同平台上处理文件、目录、环境变量以及进程信息"
   ]
  },
  {
   "cell_type": "markdown",
   "id": "38a9c7ae",
   "metadata": {},
   "source": [
    "## 1. 模块概览：为何使用 `os`"
   ]
  },
  {
   "cell_type": "markdown",
   "id": "06ec21bf",
   "metadata": {},
   "source": [
    "- 为不同操作系统提供一致的 API，编写跨平台脚本更加容易。\n",
    "- 与操作系统交互：路径拼接、目录遍历、权限检查、环境变量管理等。\n",
    "- 与底层系统调用保持接近，适合需要精细控制的场景。"
   ]
  },
  {
   "cell_type": "markdown",
   "id": "39296a78",
   "metadata": {},
   "source": [
    "## 2. 运行环境与基础信息"
   ]
  },
  {
   "cell_type": "code",
   "execution_count": 1,
   "id": "8a3c23e6",
   "metadata": {
    "ExecuteTime": {
     "end_time": "2025-10-29T10:54:12.427915Z",
     "start_time": "2025-10-29T10:54:12.424787Z"
    }
   },
   "outputs": [
    {
     "name": "stdout",
     "output_type": "stream",
     "text": [
      "当前平台标识 os.name: posix\n",
      "CPU 核心数 os.cpu_count(): 8\n",
      "os.uname(): posix.uname_result(sysname='Darwin', nodename='shenyufeideMacBook-Air.local', release='25.0.0', version='Darwin Kernel Version 25.0.0: Wed Sep 17 21:41:23 PDT 2025; root:xnu-12377.1.9~141/RELEASE_ARM64_T8122', machine='arm64')\n",
      "当前进程号 os.getpid(): 26097\n",
      "父进程号 os.getppid(): 75478\n"
     ]
    }
   ],
   "source": [
    "# 读取基础环境信息，便于根据平台调整逻辑\n",
    "import os\n",
    "\n",
    "print(f\"当前平台标识 os.name: {os.name}\")               # posix / nt / java\n",
    "print(f\"CPU 核心数 os.cpu_count(): {os.cpu_count()}\")      # 返回可用 CPU 数量\n",
    "\n",
    "# os.uname 在 POSIX 系统可用，Windows 使用 platform 模块补充\n",
    "if hasattr(os, \"uname\"):\n",
    "    uname = os.uname()\n",
    "    print(\"os.uname():\", uname)\n",
    "else:\n",
    "    print(\"os.uname() 在当前平台不可用，可使用 platform 模块获取信息\")\n",
    "\n",
    "print(f\"当前进程号 os.getpid(): {os.getpid()}\")\n",
    "print(f\"父进程号 os.getppid(): {os.getppid()}\")\n"
   ]
  },
  {
   "cell_type": "markdown",
   "id": "c024e626",
   "metadata": {},
   "source": [
    "## 3. 环境变量操作"
   ]
  },
  {
   "cell_type": "code",
   "execution_count": 2,
   "id": "9a6618aa",
   "metadata": {
    "ExecuteTime": {
     "end_time": "2025-10-29T10:55:52.565668Z",
     "start_time": "2025-10-29T10:55:52.558692Z"
    }
   },
   "outputs": [
    {
     "name": "stdout",
     "output_type": "stream",
     "text": [
      "PYTHONPATH: /Users/shenyufei/workspace:/Users/shenyufei/Applications/PyCharm.app/Contents/plugins/python-ce/helpers/pydev:/Users/shenyufei/Applications/PyCharm.app/Contents/plugins/python-ce/helpers/jupyter_debug\n",
      "DEMO_FLAG: enabled\n",
      "APP_MODE: development\n"
     ]
    }
   ],
   "source": [
    "# os.environ 暴露了一个可变映射，读取与设置环境变量\n",
    "import os\n",
    "\n",
    "# 读取常用环境变量，如果不存在则返回默认值\n",
    "python_path = os.environ.get(\"PYTHONPATH\", \"<未设置>\")\n",
    "print(f\"PYTHONPATH: {python_path}\")\n",
    "\n",
    "# 临时设置一个变量，供子进程或后续代码使用\n",
    "os.environ[\"DEMO_FLAG\"] = \"enabled\"\n",
    "print(f\"DEMO_FLAG: {os.environ['DEMO_FLAG']}\")\n",
    "\n",
    "# setdefault 适合在缺失时写入默认值\n",
    "value = os.environ.setdefault(\"APP_MODE\", \"development\")\n",
    "print(f\"APP_MODE: {value}\")\n"
   ]
  },
  {
   "cell_type": "markdown",
   "id": "686dc6eb",
   "metadata": {},
   "source": [
    "## 4. 路径操作与 `os.path`"
   ]
  },
  {
   "cell_type": "code",
   "execution_count": 3,
   "id": "b63bd69a",
   "metadata": {},
   "outputs": [
    {
     "name": "stdout",
     "output_type": "stream",
     "text": [
      "主目录: /Users/shenyufei\n",
      "项目目录（拼接）: /Users/shenyufei/workspace/pytest\n",
      "是否绝对路径: True\n",
      "路径拆分: ('/Users/shenyufei/workspace', 'pytest')\n",
      "文件扩展名拆分: ('report', '.csv')\n",
      "规范化路径: src/utils\n"
     ]
    }
   ],
   "source": [
    "# os.path 子模块负责路径拼接、解析与属性判断\n",
    "import os\n",
    "\n",
    "base_dir = os.path.expanduser(\"~\")       # 展开用户主目录\n",
    "project_dir = os.path.join(base_dir, \"workspace\", \"pytest\")\n",
    "\n",
    "print(f\"主目录: {base_dir}\")\n",
    "print(f\"项目目录（拼接）: {project_dir}\")\n",
    "print(f\"是否绝对路径: {os.path.isabs(project_dir)}\")\n",
    "print(f\"路径拆分: {os.path.split(project_dir)}\")\n",
    "print(f\"文件扩展名拆分: {os.path.splitext('report.csv')}\")\n",
    "print(f\"规范化路径: {os.path.normpath('src/../src/utils')}\")\n"
   ]
  },
  {
   "cell_type": "markdown",
   "id": "f711b588",
   "metadata": {},
   "source": [
    "## 5. 工作目录管理"
   ]
  },
  {
   "cell_type": "code",
   "execution_count": 5,
   "id": "e0bbcbc6",
   "metadata": {},
   "outputs": [
    {
     "name": "stdout",
     "output_type": "stream",
     "text": [
      "原始工作目录: /Users/shenyufei/workspace/pytest\n",
      "切换后目录: /Users/shenyufei\n",
      "已恢复目录: /Users/shenyufei/workspace/pytest\n"
     ]
    }
   ],
   "source": [
    "# 通过 getcwd/chdir 管理当前工作目录，执行后记得切回原目录\n",
    "import os\n",
    "\n",
    "original_cwd = os.getcwd()                # 保存原目录，方便恢复\n",
    "print(f\"原始工作目录: {original_cwd}\")\n",
    "\n",
    "try:\n",
    "    # 切换到用户主目录，展示 chdir 的效果\n",
    "    target = os.path.expanduser(\"~\")\n",
    "    os.chdir(target)\n",
    "    print(f\"切换后目录: {os.getcwd()}\")\n",
    "finally:\n",
    "    # 确保恢复，以免影响其他单元执行\n",
    "    os.chdir(original_cwd)\n",
    "    print(f\"已恢复目录: {os.getcwd()}\")\n"
   ]
  },
  {
   "cell_type": "markdown",
   "id": "b6afa021",
   "metadata": {},
   "source": [
    "## 6. 文件与目录的创建、遍历、删除"
   ]
  },
  {
   "cell_type": "code",
   "execution_count": 6,
   "id": "052aba27",
   "metadata": {
    "ExecuteTime": {
     "end_time": "2025-10-29T10:54:25.798104Z",
     "start_time": "2025-10-29T10:54:25.788755Z"
    }
   },
   "outputs": [
    {
     "name": "stdout",
     "output_type": "stream",
     "text": [
      "临时工作区: /var/folders/wx/ys8_0hqn7pb7rk1y_nv3fvbh0000gn/T/tmpk9r_yn6v\n",
      "os.listdir(tmpdir): ['data']\n",
      "scandir -> name=data, is_dir=True\n",
      "删除后内容: []\n"
     ]
    }
   ],
   "source": [
    "# 使用临时目录安全地演示文件系统操作\n",
    "import os\n",
    "import tempfile\n",
    "\n",
    "with tempfile.TemporaryDirectory() as tmpdir:\n",
    "    print(f\"临时工作区: {tmpdir}\")\n",
    "\n",
    "    # 创建嵌套目录结构\n",
    "    nested_dir = os.path.join(tmpdir, \"data\", \"raw\")\n",
    "    os.makedirs(nested_dir, exist_ok=True)     # exist_ok 避免重复创建报错\n",
    "\n",
    "    # 创建示例文件\n",
    "    file_path = os.path.join(nested_dir, \"demo.txt\")\n",
    "    with open(file_path, \"w\", encoding=\"utf-8\") as f:\n",
    "        f.write(\"迭代器课程 -> os 模块示例\")\n",
    "\n",
    "    # 列出当前层级的内容\n",
    "    print(\"os.listdir(tmpdir):\", os.listdir(tmpdir))\n",
    "\n",
    "    # 使用 scandir 获取更丰富的条目信息\n",
    "    with os.scandir(tmpdir) as it:\n",
    "        for entry in it:\n",
    "            print(f\"scandir -> name={entry.name}, is_dir={entry.is_dir()}\")\n",
    "\n",
    "    # 删除文件与空目录\n",
    "    os.remove(file_path)\n",
    "    os.rmdir(nested_dir)\n",
    "    print(\"删除后内容:\", os.listdir(os.path.join(tmpdir, \"data\")))\n"
   ]
  },
  {
   "cell_type": "markdown",
   "id": "6124c42a",
   "metadata": {},
   "source": [
    "## 7. 深度遍历：`os.walk`"
   ]
  },
  {
   "cell_type": "code",
   "execution_count": 5,
   "id": "6a67f5ae",
   "metadata": {
    "ExecuteTime": {
     "end_time": "2025-10-29T10:56:11.036948Z",
     "start_time": "2025-10-29T10:56:11.030361Z"
    }
   },
   "outputs": [
    {
     "name": "stdout",
     "output_type": "stream",
     "text": [
      "当前位置: /var/folders/wx/ys8_0hqn7pb7rk1y_nv3fvbh0000gn/T/tmpvy0oecdw/project\n",
      "  子目录: ['tests', 'src']\n",
      "  文件: []\n",
      "当前位置: /var/folders/wx/ys8_0hqn7pb7rk1y_nv3fvbh0000gn/T/tmpvy0oecdw/project/tests\n",
      "  子目录: []\n",
      "  文件: ['test_main.py']\n",
      "当前位置: /var/folders/wx/ys8_0hqn7pb7rk1y_nv3fvbh0000gn/T/tmpvy0oecdw/project/src\n",
      "  子目录: []\n",
      "  文件: ['utils.py', 'main.py']\n"
     ]
    }
   ],
   "source": [
    "# os.walk 递归遍历层级目录，返回 (root, dirs, files) 元组\n",
    "import os\n",
    "import tempfile\n",
    "\n",
    "with tempfile.TemporaryDirectory() as tmpdir:\n",
    "    # 构造目录树: tmpdir/project/{src,tests}/...\n",
    "    for relative in [\n",
    "        (\"project\", \"src\", \"main.py\"),\n",
    "        (\"project\", \"src\", \"utils.py\"),\n",
    "        (\"project\", \"tests\", \"test_main.py\"),\n",
    "    ]:\n",
    "        dir_path = os.path.join(tmpdir, *relative[:-1])\n",
    "        os.makedirs(dir_path, exist_ok=True)\n",
    "        open(os.path.join(dir_path, relative[-1]), \"w\").close()\n",
    "\n",
    "    for root, dirs, files in os.walk(os.path.join(tmpdir, \"project\")):\n",
    "        print(f\"当前位置: {root}\")\n",
    "        print(f\"  子目录: {dirs}\")\n",
    "        print(f\"  文件: {files}\")\n"
   ]
  },
  {
   "cell_type": "markdown",
   "id": "d5fb9cf8",
   "metadata": {},
   "source": [
    "## 8. 文件元数据与权限"
   ]
  },
  {
   "cell_type": "code",
   "execution_count": 6,
   "id": "835b810f",
   "metadata": {
    "ExecuteTime": {
     "end_time": "2025-10-29T10:56:26.555081Z",
     "start_time": "2025-10-29T10:56:26.545100Z"
    }
   },
   "outputs": [
    {
     "name": "stdout",
     "output_type": "stream",
     "text": [
      "文件大小（字节）: 23\n",
      "最后访问时间: 1761735386.5484166\n",
      "最后修改时间: 1761735386.548708\n",
      "权限位（八进制）: 0o600\n",
      "是否常规文件: True\n",
      "是否目录: False\n"
     ]
    }
   ],
   "source": [
    "# os.stat 返回底层 inode 信息，包含大小、权限、时间戳等\n",
    "import os\n",
    "import stat\n",
    "import tempfile\n",
    "\n",
    "with tempfile.NamedTemporaryFile(delete=False) as tmp:\n",
    "    tmp.write(b\"os module metadata demo\")\n",
    "    temp_name = tmp.name\n",
    "\n",
    "try:\n",
    "    info = os.stat(temp_name)\n",
    "    print(f\"文件大小（字节）: {info.st_size}\")\n",
    "    print(f\"最后访问时间: {info.st_atime}\")\n",
    "    print(f\"最后修改时间: {info.st_mtime}\")\n",
    "    print(f\"权限位（八进制）: {oct(info.st_mode & 0o777)}\")\n",
    "\n",
    "    # 使用 stat 模块判断类型\n",
    "    print(\"是否常规文件:\", stat.S_ISREG(info.st_mode))\n",
    "    print(\"是否目录:\", stat.S_ISDIR(info.st_mode))\n",
    "finally:\n",
    "    os.remove(temp_name)\n"
   ]
  },
  {
   "cell_type": "markdown",
   "id": "786ee8b8",
   "metadata": {},
   "source": [
    "## 9. 进程与文件描述符"
   ]
  },
  {
   "cell_type": "code",
   "execution_count": null,
   "id": "fd25bb23",
   "metadata": {},
   "outputs": [],
   "source": [
    "# os 模块还能操作底层进程与文件描述符，这里演示只读信息\n",
    "import os\n",
    "import tempfile\n",
    "\n",
    "print(f\"当前进程 ID: {os.getpid()}\")\n",
    "print(f\"父进程 ID: {os.getppid()}\")\n",
    "\n",
    "# 使用临时文件获取文件描述符，避免依赖 __file__\n",
    "with tempfile.NamedTemporaryFile() as tmp:\n",
    "    fd = tmp.fileno()\n",
    "    print(f\"临时文件的描述符: {fd}\")\n",
    "    print(f\"使用 os.isatty(fd) 判断是否关联终端: {os.isatty(fd)}\")\n"
   ]
  },
  {
   "cell_type": "markdown",
   "id": "0e35c224",
   "metadata": {},
   "source": [
    "## 10. 与 `pathlib` 的协作"
   ]
  },
  {
   "cell_type": "code",
   "execution_count": 3,
   "id": "74b04501",
   "metadata": {
    "ExecuteTime": {
     "end_time": "2025-10-29T10:54:39.428413Z",
     "start_time": "2025-10-29T10:54:39.413493Z"
    }
   },
   "outputs": [
    {
     "name": "stdout",
     "output_type": "stream",
     "text": [
      "Path 对象: /Users/shenyufei/workspace/pytest/data/sample.csv\n",
      "转换为字符串后可与 os.path 配合: /Users/shenyufei/workspace/pytest/data\n",
      "是否存在: False\n",
      "父目录列表: [PosixPath('/Users/shenyufei/workspace/pytest/data'), PosixPath('/Users/shenyufei/workspace/pytest'), PosixPath('/Users/shenyufei/workspace'), PosixPath('/Users/shenyufei'), PosixPath('/Users'), PosixPath('/')]\n"
     ]
    }
   ],
   "source": [
    "# pathlib 提供面向对象的路径操作，与 os 可相互转换\n",
    "from pathlib import Path\n",
    "import os\n",
    "\n",
    "path_obj = Path.cwd() / \"data\" / \"sample.csv\"\n",
    "print(f\"Path 对象: {path_obj}\")\n",
    "print(f\"转换为字符串后可与 os.path 配合: {os.path.dirname(str(path_obj))}\")\n",
    "\n",
    "# pathlib.Path 也能直接调用 os 风格的方法\n",
    "print(f\"是否存在: {path_obj.exists()}\")\n",
    "print(f\"父目录列表: {list(path_obj.parents)}\")\n"
   ]
  },
  {
   "cell_type": "markdown",
   "id": "623cdf54",
   "metadata": {},
   "source": [
    "## 11. 权限管理：`chmod` 与 `umask`\n",
    "\n",
    "- `os.chmod` 修改文件权限位，常与八进制表示法配合。\n",
    "- `os.umask` 控制新建文件的默认权限掩码，可暂时设置后恢复。"
   ]
  },
  {
   "cell_type": "code",
   "execution_count": 7,
   "id": "dd51533d",
   "metadata": {},
   "outputs": [
    {
     "name": "stdout",
     "output_type": "stream",
     "text": [
      "初始权限: 0o600\n",
      "修改后权限: 0o640\n",
      "当前进程的 umask: 0o22\n"
     ]
    }
   ],
   "source": [
    "# 演示 chmod 与 umask，用临时文件防止影响真实文件\n",
    "import os\n",
    "import tempfile\n",
    "\n",
    "with tempfile.NamedTemporaryFile(delete=False) as tmp:\n",
    "    path = tmp.name\n",
    "\n",
    "try:\n",
    "    initial_mode = oct(os.stat(path).st_mode & 0o777)\n",
    "    print(f\"初始权限: {initial_mode}\")\n",
    "\n",
    "    os.chmod(path, 0o640)\n",
    "    print(f\"修改后权限: {oct(os.stat(path).st_mode & 0o777)}\")\n",
    "\n",
    "    if hasattr(os, \"umask\"):\n",
    "        previous = os.umask(0)\n",
    "        os.umask(previous)  # 立即恢复，避免影响后续代码\n",
    "        print(f\"当前进程的 umask: {oct(previous)}\")\n",
    "    else:\n",
    "        print(\"当前平台未提供 os.umask\")\n",
    "finally:\n",
    "    os.remove(path)\n"
   ]
  },
  {
   "cell_type": "markdown",
   "id": "851f2bbb",
   "metadata": {},
   "source": [
    "## 12. 链接与文件引用\n",
    "\n",
    "- `os.link` 创建硬链接，多个名称指向同一个 inode。\n",
    "- `os.symlink` 创建符号链接，类似快捷方式；可通过 `os.readlink` 查看实际目标。\n",
    "- 某些平台限制该功能，应先检查接口是否存在。"
   ]
  },
  {
   "cell_type": "code",
   "execution_count": 8,
   "id": "adcf8318",
   "metadata": {
    "ExecuteTime": {
     "end_time": "2025-10-29T11:02:56.097757Z",
     "start_time": "2025-10-29T11:02:56.088925Z"
    }
   },
   "outputs": [
    {
     "name": "stdout",
     "output_type": "stream",
     "text": [
      "符号链接创建成功? True\n",
      "符号链接指向: /var/folders/wx/ys8_0hqn7pb7rk1y_nv3fvbh0000gn/T/tmp31nhkul9/origin.txt\n",
      "硬链接共享 inode? True\n",
      "硬链接数量: 2\n"
     ]
    }
   ],
   "source": [
    "# 通过临时目录演示符号链接与硬链接\n",
    "import os\n",
    "import tempfile\n",
    "\n",
    "with tempfile.TemporaryDirectory() as tmpdir:\n",
    "    origin = os.path.join(tmpdir, \"origin.txt\")\n",
    "    with open(origin, \"w\", encoding=\"utf-8\") as f:\n",
    "        f.write(\"os link demo\")\n",
    "\n",
    "    if hasattr(os, \"symlink\"):\n",
    "        symlink_path = os.path.join(tmpdir, \"origin_symlink.txt\")\n",
    "        os.symlink(origin, symlink_path)\n",
    "        print(f\"符号链接创建成功? {os.path.islink(symlink_path)}\")\n",
    "        print(f\"符号链接指向: {os.readlink(symlink_path)}\")\n",
    "    else:\n",
    "        print(\"当前平台不支持符号链接\")\n",
    "\n",
    "    if hasattr(os, \"link\"):\n",
    "        hardlink_path = os.path.join(tmpdir, \"origin_hard.txt\")\n",
    "        os.link(origin, hardlink_path)\n",
    "        same_inode = os.stat(origin).st_ino == os.stat(hardlink_path).st_ino\n",
    "        print(f\"硬链接共享 inode? {same_inode}\")\n",
    "        print(f\"硬链接数量: {os.stat(origin).st_nlink}\")\n",
    "    else:\n",
    "        print(\"当前平台不支持硬链接\")\n"
   ]
  },
  {
   "cell_type": "markdown",
   "id": "e0a1f49e",
   "metadata": {},
   "source": [
    "## 13. 低层文件描述符操作\n",
    "\n",
    "- `os.open`/`os.read`/`os.write` 暴露 C 语言风格的系统调用接口。\n",
    "- `os.lseek` 调整文件指针，`os.fdopen` 将描述符包装成 Python 文件对象。\n",
    "- 用于需要精准控制缓冲或与底层库协作的场景。"
   ]
  },
  {
   "cell_type": "code",
   "execution_count": null,
   "id": "a9d36889",
   "metadata": {},
   "outputs": [],
   "source": [
    "# 演示使用低层文件描述符并与高层对象互转\n",
    "import os\n",
    "import tempfile\n",
    "\n",
    "with tempfile.NamedTemporaryFile(delete=False) as tmp:\n",
    "    path = tmp.name\n",
    "\n",
    "try:\n",
    "    fd = os.open(path, os.O_RDWR | os.O_CREAT | os.O_TRUNC, 0o600)\n",
    "    try:\n",
    "        os.write(fd, \"低层写入\".encode(\"utf-8\"))\n",
    "        os.lseek(fd, 0, os.SEEK_SET)\n",
    "        raw = os.read(fd, 1024)\n",
    "        print(f\"os.read -> {raw.decode('utf-8').strip()}\")\n",
    "\n",
    "        os.lseek(fd, 0, os.SEEK_END)\n",
    "        with os.fdopen(fd, \"a+\", encoding=\"utf-8\") as handle:\n",
    "            handle.write(\"通过 fdopen 追加\")\n",
    "            handle.seek(0)\n",
    "            print(\"fdopen ->\", handle.read().splitlines())\n",
    "    finally:\n",
    "        # fd 已被 fdopen 关闭，无需再次 os.close\n",
    "        pass\n",
    "finally:\n",
    "    os.remove(path)\n"
   ]
  },
  {
   "cell_type": "markdown",
   "id": "ffbe1242",
   "metadata": {},
   "source": [
    "## 14. 管道与进程间通信\n",
    "\n",
    "- `os.pipe` 建立匿名管道，返回一对文件描述符（读端、写端）。\n",
    "- 写端关闭后，读端会接收 EOF，可结合 `select`、`subprocess` 实现更复杂通信。"
   ]
  },
  {
   "cell_type": "code",
   "execution_count": null,
   "id": "a13f2bac",
   "metadata": {},
   "outputs": [],
   "source": [
    "# 使用管道在同一进程内模拟 producer/consumer 通信\n",
    "import os\n",
    "\n",
    "read_fd, write_fd = os.pipe()\n",
    "try:\n",
    "    message = \"使用 os.pipe 传递数据\".encode(\"utf-8\")\n",
    "    os.write(write_fd, message)\n",
    "    os.close(write_fd)  # 关闭写端以便读端检测到 EOF\n",
    "\n",
    "    received = os.read(read_fd, 1024)\n",
    "    print(received.decode(\"utf-8\"))\n",
    "finally:\n",
    "    os.close(read_fd)\n"
   ]
  },
  {
   "cell_type": "markdown",
   "id": "8c1bc378",
   "metadata": {},
   "source": [
    "## 15. 小结与最佳实践"
   ]
  },
  {
   "cell_type": "markdown",
   "id": "ed315580",
   "metadata": {},
   "source": [
    "- `os` 模块贴近操作系统，为 Python 提供跨平台的系统调用接口。\n",
    "- 环境变量、路径、目录、元数据是最常用的基础能力，建议配合 `tempfile` 做安全演示。\n",
    "- 通过 `chmod`/`umask`、链接、底层文件描述符以及 `os.pipe` 可深入了解系统资源管理。\n",
    "- 根据需求在 `os`、`pathlib`、`subprocess` 间切换，确保代码既可维护又具备必要的底层控制力。"
   ]
  }
 ],
 "metadata": {
  "kernelspec": {
   "display_name": "Python 3 (ipykernel)",
   "language": "python",
   "name": "python3"
  },
  "language_info": {
   "codemirror_mode": {
    "name": "ipython",
    "version": 3
   },
   "file_extension": ".py",
   "mimetype": "text/x-python",
   "name": "python",
   "nbconvert_exporter": "python",
   "pygments_lexer": "ipython3",
   "version": "3.14.0"
  }
 },
 "nbformat": 4,
 "nbformat_minor": 5
}
