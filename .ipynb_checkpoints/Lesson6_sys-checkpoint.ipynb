{
 "cells": [
  {
   "cell_type": "markdown",
   "id": "ebbd98cb",
   "metadata": {},
   "source": [
    "# Lesson 6：Python `sys` 模块详解"
   ]
  },
  {
   "cell_type": "markdown",
   "id": "da08d7a8",
   "metadata": {},
   "source": [
    "`sys` 模块让 Python 程序访问解释器与运行环境的底层信息，例如命令行参数、模块搜索路径、标准输入输出流等。本课从最常用的能力出发，逐步覆盖诊断、配置与扩展实践。"
   ]
  },
  {
   "cell_type": "markdown",
   "id": "6d5a5ae7",
   "metadata": {},
   "source": [
    "## 1. 模块总览：何时使用 `sys`\n",
    "\n",
    "- 获取解释器版本、平台等运行时信息。\n",
    "- 访问命令行参数、环境中的路径配置。\n",
    "- 操作标准输入输出流，重定向或捕获输出。\n",
    "- 与解释器交互：退出、异常信息、模块缓存等。"
   ]
  },
  {
   "cell_type": "markdown",
   "id": "1664ef36",
   "metadata": {},
   "source": [
    "## 2. 解释器信息与版本"
   ]
  },
  {
   "cell_type": "code",
   "execution_count": null,
   "id": "60a62770",
   "metadata": {},
   "outputs": [],
   "source": [
    "# 查看解释器版本与平台信息\n",
    "import sys\n",
    "\n",
    "print(f\"版本字符串 sys.version: {sys.version}\")\n",
    "print(f\"版本元组 sys.version_info: {sys.version_info}\")\n",
    "print(f\"Python 可执行文件路径 sys.executable: {sys.executable}\")\n",
    "print(f\"平台标识 sys.platform: {sys.platform}\")\n"
   ]
  },
  {
   "cell_type": "markdown",
   "id": "b7f1ebe4",
   "metadata": {},
   "source": [
    "## 3. 命令行参数：`sys.argv`"
   ]
  },
  {
   "cell_type": "code",
   "execution_count": null,
   "id": "32a7ad44",
   "metadata": {},
   "outputs": [],
   "source": [
    "# sys.argv 收集命令行参数，Notebook 中示例用静态列表替代\n",
    "import sys\n",
    "\n",
    "# 在脚本环境中 sys.argv[0] 是脚本名，后续是传入的参数\n",
    "example_args = [\"script.py\", \"--config=config.yaml\", \"--verbose\"]\n",
    "print(\"示例参数列表:\", example_args)\n",
    "\n",
    "# 实际使用时可以直接访问 sys.argv\n",
    "print(\"当前 Notebook 中 sys.argv:\", sys.argv[:3])\n"
   ]
  },
  {
   "cell_type": "markdown",
   "id": "76e2141f",
   "metadata": {},
   "source": [
    "## 4. 模块搜索路径：`sys.path`"
   ]
  },
  {
   "cell_type": "code",
   "execution_count": null,
   "id": "07f17d8b",
   "metadata": {},
   "outputs": [],
   "source": [
    "# sys.path 控制解释器查找模块的顺序\n",
    "import sys\n",
    "\n",
    "print(\"前 5 个搜索路径:\")\n",
    "for path in sys.path[:5]:\n",
    "    print(\"  -\", path)\n",
    "\n",
    "# 可以在运行时追加自定义路径（谨慎使用，推荐临时修改）\n",
    "sys.path.append(\"/tmp/my_package\")\n",
    "print(\"追加后的最后一个路径:\", sys.path[-1])\n",
    "\n",
    "# 清理示例添加的路径，避免污染环境\n",
    "sys.path.pop()\n"
   ]
  },
  {
   "cell_type": "markdown",
   "id": "b4ba1f9c",
   "metadata": {},
   "source": [
    "## 5. 标准输入输出与错误流"
   ]
  },
  {
   "cell_type": "code",
   "execution_count": null,
   "id": "8213e639",
   "metadata": {},
   "outputs": [],
   "source": [
    "# sys.stdin / stdout / stderr 代表标准流对象\n",
    "import sys\n",
    "\n",
    "print(\"stdout 是:\", type(sys.stdout))\n",
    "print(\"stderr 是:\", type(sys.stderr))\n",
    "\n",
    "# 可以临时替换 stdout 来捕获打印内容\n",
    "from io import StringIO\n",
    "\n",
    "buffer = StringIO()\n",
    "original_stdout = sys.stdout\n",
    "try:\n",
    "    sys.stdout = buffer\n",
    "    print(\"这段文字被写入到 StringIO 中\")\n",
    "finally:\n",
    "    sys.stdout = original_stdout\n",
    "\n",
    "captured = buffer.getvalue()\n",
    "print(\"捕获到的内容:\", captured.strip())\n"
   ]
  },
  {
   "cell_type": "markdown",
   "id": "d92c8f11",
   "metadata": {},
   "source": [
    "## 6. 退出程序与异常钩子"
   ]
  },
  {
   "cell_type": "code",
   "execution_count": null,
   "id": "15254cf5",
   "metadata": {},
   "outputs": [],
   "source": [
    "# sys.exit 可以设置退出状态码，触发 SystemExit 异常\n",
    "import sys\n",
    "\n",
    "try:\n",
    "    sys.exit(1)\n",
    "except SystemExit as exc:\n",
    "    print(f\"捕获到 SystemExit，状态码: {exc.code}\")\n",
    "\n",
    "# sys.exc_info 提供当前异常的类型、值与追踪对象\n",
    "try:\n",
    "    1 / 0\n",
    "except ZeroDivisionError:\n",
    "    exc_type, exc_value, exc_traceback = sys.exc_info()\n",
    "    print(\"异常类型:\", exc_type.__name__)\n",
    "    print(\"异常信息:\", exc_value)\n",
    "    print(\"是否有 traceback 对象:\", exc_traceback is not None)\n"
   ]
  },
  {
   "cell_type": "markdown",
   "id": "f55c4a50",
   "metadata": {},
   "source": [
    "## 7. 启动参数与优化级别"
   ]
  },
  {
   "cell_type": "code",
   "execution_count": null,
   "id": "61308463",
   "metadata": {},
   "outputs": [],
   "source": [
    "# sys.flags 显示解释器启动标志，例如 -O、-B 等\n",
    "import sys\n",
    "\n",
    "print(sys.flags)\n",
    "\n",
    "# sys.getrecursionlimit / setrecursionlimit 控制递归深度上限\n",
    "current_limit = sys.getrecursionlimit()\n",
    "print(f\"当前递归深度上限: {current_limit}\")\n",
    "# 修改递归限制时需谨慎，避免栈溢出\n",
    "sys.setrecursionlimit(current_limit + 100)\n",
    "print(f\"调整后的递归深度上限: {sys.getrecursionlimit()}\")\n",
    "# 恢复原先的限制\n",
    "sys.setrecursionlimit(current_limit)\n"
   ]
  },
  {
   "cell_type": "markdown",
   "id": "6df7e95d",
   "metadata": {},
   "source": [
    "## 8. 内存与对象信息"
   ]
  },
  {
   "cell_type": "code",
   "execution_count": null,
   "id": "fb1eb1ed",
   "metadata": {},
   "outputs": [],
   "source": [
    "# sys.getsizeof 返回对象占用的字节数（仅供参考）\n",
    "import sys\n",
    "\n",
    "sample_list = [1, 2, 3, 4]\n",
    "print(f\"列表占用字节数: {sys.getsizeof(sample_list)}\")\n",
    "print(f\"字符串占用字节数: {sys.getsizeof('hello')}\")\n"
   ]
  },
  {
   "cell_type": "markdown",
   "id": "c5c6e4a7",
   "metadata": {},
   "source": [
    "## 9. 模块缓存：`sys.modules`"
   ]
  },
  {
   "cell_type": "code",
   "execution_count": null,
   "id": "af36a480",
   "metadata": {},
   "outputs": [],
   "source": [
    "# sys.modules 记录已加载模块，可用于调试或实现热加载\n",
    "import sys\n",
    "\n",
    "print(f\"已加载模块数量: {len(sys.modules)}\")\n",
    "print(\"是否加载了 json 模块:\", 'json' in sys.modules)\n",
    "\n",
    "# 临时导入新模块后观察变化\n",
    "import math\n",
    "print(\"math 是否在 sys.modules 中:\", 'math' in sys.modules)\n"
   ]
  },
  {
   "cell_type": "markdown",
   "id": "1ea6d8ca",
   "metadata": {},
   "source": [
    "## 10. 小结与实践建议\n",
    "- `sys` 模块贴近解释器，常用于 CLI 工具和库开发。\n",
    "- `sys.argv`、`sys.path`、`sys.stdout` 等接口帮助脚本与运行环境交互。\n",
    "- 调整解释器行为时（如 `setrecursionlimit`、重定向 stdout）要先评估副作用。\n",
    "- 建议与 `argparse`、`logging`、`pathlib` 等标准库协作构建更易维护的工具。"
   ]
  }
 ],
 "metadata": {
  "kernelspec": {
   "display_name": "Python 3 (ipykernel)",
   "language": "python",
   "name": "python3"
  },
  "language_info": {
   "codemirror_mode": {
    "name": "ipython",
    "version": 3
   },
   "file_extension": ".py",
   "mimetype": "text/x-python",
   "name": "python",
   "nbconvert_exporter": "python",
   "pygments_lexer": "ipython3",
   "version": "3.14.0"
  }
 },
 "nbformat": 4,
 "nbformat_minor": 5
}