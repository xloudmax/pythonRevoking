{
 "cells": [
  {
   "cell_type": "markdown",
   "id": "7696be5e",
   "metadata": {},
   "source": [
    "# Lesson 2：函数基础与装饰器入门"
   ]
  },
  {
   "cell_type": "markdown",
   "id": "0cd7ec59",
   "metadata": {},
   "source": [
    "## 学习目标\n",
    "- 理解函数在 Python 中的作用与基本语法。\n",
    "- 掌握常见参数类型：位置、关键字、默认值、`*args`、`**kwargs`。\n",
    "- 了解返回值、作用域与闭包的基本概念。\n",
    "- 能够编写一个最简单的装饰器，为函数添加额外行为。"
   ]
  },
  {
   "cell_type": "markdown",
   "id": "500a6cd5",
   "metadata": {},
   "source": [
    "## 1. 函数是什么？\n",
    "\n",
    "函数是可重复调用的代码块：\n",
    "- 将逻辑封装成可复用的单元；\n",
    "- 减少重复代码，提升可读性；\n",
    "- 输入 → 处理 → 输出。"
   ]
  },
  {
   "cell_type": "code",
   "id": "0fb414b4",
   "metadata": {
    "ExecuteTime": {
     "end_time": "2025-10-29T11:09:07.448980Z",
     "start_time": "2025-10-29T11:09:07.445867Z"
    }
   },
   "source": [
    "# 定义一个简单函数并调用\n",
    "\n",
    "def greet(name):\n",
    "    \"\"\"Return a friendly greeting.\"\"\"\n",
    "    message = f\"你好，{name}!\"\n",
    "    return message\n",
    "\n",
    "result = greet(\"小明\")\n",
    "print(result)\n"
   ],
   "outputs": [
    {
     "name": "stdout",
     "output_type": "stream",
     "text": [
      "你好，小明!\n"
     ]
    }
   ],
   "execution_count": 1
  },
  {
   "cell_type": "markdown",
   "id": "c4beeb10",
   "metadata": {},
   "source": [
    "## 2. 参数类型总览\n",
    "\n",
    "调用函数时可以传入不同形式的参数：\n",
    "- **位置参数**：按顺序传值；\n",
    "- **关键字参数**：指定参数名；\n",
    "- **默认参数**：提供默认值，调用时可省略；\n",
    "- **可变参数**：`*args` 接受任意数量的位置参数；\n",
    "- **关键字参数字典**：`**kwargs` 接受任意数量的关键字参数。"
   ]
  },
  {
   "cell_type": "code",
   "execution_count": null,
   "id": "196d0126",
   "metadata": {},
   "outputs": [],
   "source": [
    "# 混合使用位置与关键字参数\n",
    "\n",
    "def describe_pet(kind, name, age):\n",
    "    \"\"\"Print a short description of a pet.\"\"\"\n",
    "    print(f\"这是一只{kind}，名字叫{name}，今年{age}岁。\")\n",
    "\n",
    "# 位置参数：按照顺序传值\n",
    "describe_pet(\"猫\", \"球球\", 2)\n",
    "\n",
    "# 关键字参数：显式指明参数名\n",
    "describe_pet(kind=\"狗\", name=\"贝贝\", age=5)\n"
   ]
  },
  {
   "cell_type": "markdown",
   "id": "769db28e",
   "metadata": {},
   "source": [
    "### 2.1 默认参数\n",
    "\n",
    "默认参数让我们在大多数情况下使用默认值，仅在需要时覆盖。"
   ]
  },
  {
   "cell_type": "code",
   "id": "85b55022",
   "metadata": {
    "ExecuteTime": {
     "end_time": "2025-10-29T11:09:37.874824Z",
     "start_time": "2025-10-29T11:09:37.867815Z"
    }
   },
   "source": [
    "# 为参数提供默认值\n",
    "\n",
    "def make_coffee(size=\"中杯\", milk=True):\n",
    "    \"\"\"Return a text description of the coffee order.\"\"\"\n",
    "    milk_text = \"加奶\" if milk else \"不加奶\"\n",
    "    return f\"{size}咖啡，{milk_text}\"\n",
    "\n",
    "print(make_coffee())              # 使用默认值\n",
    "print(make_coffee(size=\"大杯\"))   # 覆盖 size\n",
    "print(make_coffee(milk=False))    # 覆盖 milk\n"
   ],
   "outputs": [
    {
     "name": "stdout",
     "output_type": "stream",
     "text": [
      "中杯咖啡，加奶\n",
      "大杯咖啡，加奶\n",
      "中杯咖啡，不加奶\n"
     ]
    }
   ],
   "execution_count": 2
  },
  {
   "cell_type": "markdown",
   "id": "33684d30",
   "metadata": {},
   "source": [
    "### 2.2 `*args` 与 `**kwargs`\n",
    "\n",
    "- `*args` 将额外的位置参数收集为元组；\n",
    "- `**kwargs` 将额外的关键字参数收集为字典。"
   ]
  },
  {
   "cell_type": "code",
   "id": "a8862cf7",
   "metadata": {
    "ExecuteTime": {
     "end_time": "2025-10-29T11:09:49.087823Z",
     "start_time": "2025-10-29T11:09:49.085792Z"
    }
   },
   "source": [
    "# 使用 *args 和 **kwargs 接受可变参数\n",
    "\n",
    "def build_profile(username, *hobbies, **settings):\n",
    "    \"\"\"Build a simple user profile for demonstration.\"\"\"\n",
    "    profile = {\"username\": username, \"hobbies\": hobbies, \"settings\": settings}\n",
    "    return profile\n",
    "\n",
    "info = build_profile(\n",
    "    \"maria\",\n",
    "    \"reading\",\n",
    "    \"yoga\",\n",
    "    theme=\"dark\",\n",
    "    email_updates=False,\n",
    ")\n",
    "print(info)\n"
   ],
   "outputs": [
    {
     "name": "stdout",
     "output_type": "stream",
     "text": [
      "{'username': 'maria', 'hobbies': ('reading', 'yoga'), 'settings': {'theme': 'dark', 'email_updates': False}}\n"
     ]
    }
   ],
   "execution_count": 3
  },
  {
   "cell_type": "markdown",
   "id": "f1b98021",
   "metadata": {},
   "source": [
    "## 3. 返回值与多值解包\n",
    "\n",
    "函数可以返回任意对象，包括元组。调用方可用多变量解包接收多个结果。"
   ]
  },
  {
   "cell_type": "code",
   "id": "3ce5b73c",
   "metadata": {
    "ExecuteTime": {
     "end_time": "2025-10-29T11:09:57.260016Z",
     "start_time": "2025-10-29T11:09:57.257702Z"
    }
   },
   "source": [
    "# 返回多个值并解包\n",
    "\n",
    "def divide_numbers(a, b):\n",
    "    \"\"\"Return quotient and remainder for integer division.\"\"\"\n",
    "    quotient = a // b\n",
    "    remainder = a % b\n",
    "    return quotient, remainder\n",
    "\n",
    "q, r = divide_numbers(17, 5)\n",
    "print(f\"商: {q}, 余数: {r}\")\n"
   ],
   "outputs": [
    {
     "name": "stdout",
     "output_type": "stream",
     "text": [
      "商: 3, 余数: 2\n"
     ]
    }
   ],
   "execution_count": 4
  },
  {
   "cell_type": "markdown",
   "id": "bee0a63f",
   "metadata": {},
   "source": [
    "## 4. 作用域与闭包入门\n",
    "\n",
    "- **局部作用域**：函数内部创建的变量仅在函数内有效。\n",
    "- **闭包**：内部函数引用外部函数的变量，并在外部函数结束后仍然可用。"
   ]
  },
  {
   "cell_type": "code",
   "id": "b99f8507",
   "metadata": {
    "ExecuteTime": {
     "end_time": "2025-10-29T11:10:19.689598Z",
     "start_time": "2025-10-29T11:10:19.681825Z"
    }
   },
   "source": [
    "# 使用闭包记住外部状态\n",
    "\n",
    "def make_counter():\n",
    "    \"\"\"Create a simple counter that remembers how many times it was called.\"\"\"\n",
    "    count = 0\n",
    "\n",
    "    def increment():\n",
    "        nonlocal count  # 声明使用外层作用域的变量\n",
    "        count += 1\n",
    "        return count\n",
    "\n",
    "    return increment\n",
    "\n",
    "counter = make_counter()\n",
    "print(counter())  # 第一次调用 -> 1\n",
    "print(counter())  # 第二次调用 -> 2\n"
   ],
   "outputs": [
    {
     "name": "stdout",
     "output_type": "stream",
     "text": [
      "1\n",
      "2\n"
     ]
    }
   ],
   "execution_count": 5
  },
  {
   "cell_type": "markdown",
   "id": "c0f78ede",
   "metadata": {},
   "source": [
    "## 5. 装饰器入门\n",
    "\n",
    "装饰器是一种函数，用于在不修改原函数代码的情况下，为其添加额外行为。常见用途：记录日志、计时、权限检查等。"
   ]
  },
  {
   "cell_type": "code",
   "execution_count": null,
   "id": "d745c473",
   "metadata": {},
   "outputs": [],
   "source": [
    "# 编写一个简单的装饰器，为函数自动打印开始与结束\n",
    "import functools\n",
    "\n",
    "def simple_logger(func):\n",
    "    \"\"\"Decorator that prints messages before and after the wrapped function.\"\"\"\n",
    "    @functools.wraps(func)\n",
    "    def wrapper(*args, **kwargs):\n",
    "        print(f\"开始执行: {func.__name__}\")\n",
    "        result = func(*args, **kwargs)\n",
    "        print(f\"结束执行: {func.__name__}\")\n",
    "        return result\n",
    "\n",
    "    return wrapper\n",
    "\n",
    "@simple_logger\n",
    "def add(a, b):\n",
    "    \"\"\"Return the sum of two numbers.\"\"\"\n",
    "    return a + b\n",
    "\n",
    "value = add(3, 4)\n",
    "print(f\"结果: {value}\")\n"
   ]
  },
  {
   "cell_type": "markdown",
   "id": "2588df4d",
   "metadata": {},
   "source": [
    "## 6. 练习建议\n",
    "- 修改 `simple_logger`，让它还能打印函数执行耗时。\n",
    "- 编写一个函数 `format_name(first, last, /, *, uppercase=False)`，熟悉仅限位置与仅限关键字参数。\n",
    "- 使用闭包实现一个“记住最近一次结果”的函数，实现 `remember(value)` 接口。\n",
    "- 尝试为 `build_profile` 添加参数检查，确保用户传入的配置符合预期。"
   ]
  }
 ],
 "metadata": {
  "kernelspec": {
   "display_name": "Python 3 (ipykernel)",
   "language": "python",
   "name": "python3"
  },
  "language_info": {
   "codemirror_mode": {
    "name": "ipython",
    "version": 3
   },
   "file_extension": ".py",
   "mimetype": "text/x-python",
   "name": "python",
   "nbconvert_exporter": "python",
   "pygments_lexer": "ipython3",
   "version": "3.14.0"
  }
 },
 "nbformat": 4,
 "nbformat_minor": 5
}
